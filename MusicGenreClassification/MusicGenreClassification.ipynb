{
  "nbformat": 4,
  "nbformat_minor": 0,
  "metadata": {
    "colab": {
      "provenance": []
    },
    "kernelspec": {
      "name": "python3",
      "display_name": "Python 3"
    },
    "language_info": {
      "name": "python"
    },
    "accelerator": "GPU",
    "gpuClass": "standard"
  },
  "cells": [
    {
      "cell_type": "code",
      "source": [
        "!pip install transformers"
      ],
      "metadata": {
        "colab": {
          "base_uri": "https://localhost:8080/"
        },
        "id": "0DMA7GFigjij",
        "outputId": "0c445fa1-a805-469f-916b-c837384f8c3c"
      },
      "execution_count": 1,
      "outputs": [
        {
          "output_type": "stream",
          "name": "stdout",
          "text": [
            "Looking in indexes: https://pypi.org/simple, https://us-python.pkg.dev/colab-wheels/public/simple/\n",
            "Collecting transformers\n",
            "  Downloading transformers-4.26.1-py3-none-any.whl (6.3 MB)\n",
            "\u001b[2K     \u001b[90m━━━━━━━━━━━━━━━━━━━━━━━━━━━━━━━━━━━━━━━━\u001b[0m \u001b[32m6.3/6.3 MB\u001b[0m \u001b[31m77.6 MB/s\u001b[0m eta \u001b[36m0:00:00\u001b[0m\n",
            "\u001b[?25hRequirement already satisfied: numpy>=1.17 in /usr/local/lib/python3.8/dist-packages (from transformers) (1.22.4)\n",
            "Requirement already satisfied: requests in /usr/local/lib/python3.8/dist-packages (from transformers) (2.25.1)\n",
            "Requirement already satisfied: tqdm>=4.27 in /usr/local/lib/python3.8/dist-packages (from transformers) (4.64.1)\n",
            "Collecting tokenizers!=0.11.3,<0.14,>=0.11.1\n",
            "  Downloading tokenizers-0.13.2-cp38-cp38-manylinux_2_17_x86_64.manylinux2014_x86_64.whl (7.6 MB)\n",
            "\u001b[2K     \u001b[90m━━━━━━━━━━━━━━━━━━━━━━━━━━━━━━━━━━━━━━━━\u001b[0m \u001b[32m7.6/7.6 MB\u001b[0m \u001b[31m98.9 MB/s\u001b[0m eta \u001b[36m0:00:00\u001b[0m\n",
            "\u001b[?25hRequirement already satisfied: regex!=2019.12.17 in /usr/local/lib/python3.8/dist-packages (from transformers) (2022.6.2)\n",
            "Requirement already satisfied: packaging>=20.0 in /usr/local/lib/python3.8/dist-packages (from transformers) (23.0)\n",
            "Collecting huggingface-hub<1.0,>=0.11.0\n",
            "  Downloading huggingface_hub-0.12.1-py3-none-any.whl (190 kB)\n",
            "\u001b[2K     \u001b[90m━━━━━━━━━━━━━━━━━━━━━━━━━━━━━━━━━━━━━━\u001b[0m \u001b[32m190.3/190.3 KB\u001b[0m \u001b[31m24.2 MB/s\u001b[0m eta \u001b[36m0:00:00\u001b[0m\n",
            "\u001b[?25hRequirement already satisfied: filelock in /usr/local/lib/python3.8/dist-packages (from transformers) (3.9.0)\n",
            "Requirement already satisfied: pyyaml>=5.1 in /usr/local/lib/python3.8/dist-packages (from transformers) (6.0)\n",
            "Requirement already satisfied: typing-extensions>=3.7.4.3 in /usr/local/lib/python3.8/dist-packages (from huggingface-hub<1.0,>=0.11.0->transformers) (4.5.0)\n",
            "Requirement already satisfied: urllib3<1.27,>=1.21.1 in /usr/local/lib/python3.8/dist-packages (from requests->transformers) (1.26.14)\n",
            "Requirement already satisfied: idna<3,>=2.5 in /usr/local/lib/python3.8/dist-packages (from requests->transformers) (2.10)\n",
            "Requirement already satisfied: certifi>=2017.4.17 in /usr/local/lib/python3.8/dist-packages (from requests->transformers) (2022.12.7)\n",
            "Requirement already satisfied: chardet<5,>=3.0.2 in /usr/local/lib/python3.8/dist-packages (from requests->transformers) (4.0.0)\n",
            "Installing collected packages: tokenizers, huggingface-hub, transformers\n",
            "Successfully installed huggingface-hub-0.12.1 tokenizers-0.13.2 transformers-4.26.1\n"
          ]
        }
      ]
    },
    {
      "cell_type": "markdown",
      "source": [
        "# Basic analysis\n",
        "\n",
        "Some analysis of the data"
      ],
      "metadata": {
        "id": "7idGJIWgLCSN"
      }
    },
    {
      "cell_type": "code",
      "execution_count": 2,
      "metadata": {
        "colab": {
          "base_uri": "https://localhost:8080/",
          "height": 223
        },
        "id": "EcYjhBWC9OC0",
        "outputId": "03e40588-5932-4fa6-8828-c56174bb6035"
      },
      "outputs": [
        {
          "output_type": "stream",
          "name": "stdout",
          "text": [
            "GPU is available\n"
          ]
        },
        {
          "output_type": "execute_result",
          "data": {
            "text/plain": [
              "              song    year           artist genre  \\\n",
              "0        ego-remix  2009.0  beyonce-knowles   Pop   \n",
              "1     then-tell-me  2009.0  beyonce-knowles   Pop   \n",
              "2          honesty  2009.0  beyonce-knowles   Pop   \n",
              "3  you-are-my-rock  2009.0  beyonce-knowles   Pop   \n",
              "4    black-culture  2009.0  beyonce-knowles   Pop   \n",
              "\n",
              "                                              lyrics  \n",
              "0  Oh baby how you doing You know I'm gonna cut r...  \n",
              "1  playin everything so easy it's like you seem s...  \n",
              "2  If you search For tenderness It isn't hard to ...  \n",
              "3  Oh oh oh I oh oh oh I If I wrote a book about ...  \n",
              "4  Party the people the people the party it's pop...  "
            ],
            "text/html": [
              "\n",
              "  <div id=\"df-41715535-5646-45da-bf8e-1fa63f6ad621\">\n",
              "    <div class=\"colab-df-container\">\n",
              "      <div>\n",
              "<style scoped>\n",
              "    .dataframe tbody tr th:only-of-type {\n",
              "        vertical-align: middle;\n",
              "    }\n",
              "\n",
              "    .dataframe tbody tr th {\n",
              "        vertical-align: top;\n",
              "    }\n",
              "\n",
              "    .dataframe thead th {\n",
              "        text-align: right;\n",
              "    }\n",
              "</style>\n",
              "<table border=\"1\" class=\"dataframe\">\n",
              "  <thead>\n",
              "    <tr style=\"text-align: right;\">\n",
              "      <th></th>\n",
              "      <th>song</th>\n",
              "      <th>year</th>\n",
              "      <th>artist</th>\n",
              "      <th>genre</th>\n",
              "      <th>lyrics</th>\n",
              "    </tr>\n",
              "  </thead>\n",
              "  <tbody>\n",
              "    <tr>\n",
              "      <th>0</th>\n",
              "      <td>ego-remix</td>\n",
              "      <td>2009.0</td>\n",
              "      <td>beyonce-knowles</td>\n",
              "      <td>Pop</td>\n",
              "      <td>Oh baby how you doing You know I'm gonna cut r...</td>\n",
              "    </tr>\n",
              "    <tr>\n",
              "      <th>1</th>\n",
              "      <td>then-tell-me</td>\n",
              "      <td>2009.0</td>\n",
              "      <td>beyonce-knowles</td>\n",
              "      <td>Pop</td>\n",
              "      <td>playin everything so easy it's like you seem s...</td>\n",
              "    </tr>\n",
              "    <tr>\n",
              "      <th>2</th>\n",
              "      <td>honesty</td>\n",
              "      <td>2009.0</td>\n",
              "      <td>beyonce-knowles</td>\n",
              "      <td>Pop</td>\n",
              "      <td>If you search For tenderness It isn't hard to ...</td>\n",
              "    </tr>\n",
              "    <tr>\n",
              "      <th>3</th>\n",
              "      <td>you-are-my-rock</td>\n",
              "      <td>2009.0</td>\n",
              "      <td>beyonce-knowles</td>\n",
              "      <td>Pop</td>\n",
              "      <td>Oh oh oh I oh oh oh I If I wrote a book about ...</td>\n",
              "    </tr>\n",
              "    <tr>\n",
              "      <th>4</th>\n",
              "      <td>black-culture</td>\n",
              "      <td>2009.0</td>\n",
              "      <td>beyonce-knowles</td>\n",
              "      <td>Pop</td>\n",
              "      <td>Party the people the people the party it's pop...</td>\n",
              "    </tr>\n",
              "  </tbody>\n",
              "</table>\n",
              "</div>\n",
              "      <button class=\"colab-df-convert\" onclick=\"convertToInteractive('df-41715535-5646-45da-bf8e-1fa63f6ad621')\"\n",
              "              title=\"Convert this dataframe to an interactive table.\"\n",
              "              style=\"display:none;\">\n",
              "        \n",
              "  <svg xmlns=\"http://www.w3.org/2000/svg\" height=\"24px\"viewBox=\"0 0 24 24\"\n",
              "       width=\"24px\">\n",
              "    <path d=\"M0 0h24v24H0V0z\" fill=\"none\"/>\n",
              "    <path d=\"M18.56 5.44l.94 2.06.94-2.06 2.06-.94-2.06-.94-.94-2.06-.94 2.06-2.06.94zm-11 1L8.5 8.5l.94-2.06 2.06-.94-2.06-.94L8.5 2.5l-.94 2.06-2.06.94zm10 10l.94 2.06.94-2.06 2.06-.94-2.06-.94-.94-2.06-.94 2.06-2.06.94z\"/><path d=\"M17.41 7.96l-1.37-1.37c-.4-.4-.92-.59-1.43-.59-.52 0-1.04.2-1.43.59L10.3 9.45l-7.72 7.72c-.78.78-.78 2.05 0 2.83L4 21.41c.39.39.9.59 1.41.59.51 0 1.02-.2 1.41-.59l7.78-7.78 2.81-2.81c.8-.78.8-2.07 0-2.86zM5.41 20L4 18.59l7.72-7.72 1.47 1.35L5.41 20z\"/>\n",
              "  </svg>\n",
              "      </button>\n",
              "      \n",
              "  <style>\n",
              "    .colab-df-container {\n",
              "      display:flex;\n",
              "      flex-wrap:wrap;\n",
              "      gap: 12px;\n",
              "    }\n",
              "\n",
              "    .colab-df-convert {\n",
              "      background-color: #E8F0FE;\n",
              "      border: none;\n",
              "      border-radius: 50%;\n",
              "      cursor: pointer;\n",
              "      display: none;\n",
              "      fill: #1967D2;\n",
              "      height: 32px;\n",
              "      padding: 0 0 0 0;\n",
              "      width: 32px;\n",
              "    }\n",
              "\n",
              "    .colab-df-convert:hover {\n",
              "      background-color: #E2EBFA;\n",
              "      box-shadow: 0px 1px 2px rgba(60, 64, 67, 0.3), 0px 1px 3px 1px rgba(60, 64, 67, 0.15);\n",
              "      fill: #174EA6;\n",
              "    }\n",
              "\n",
              "    [theme=dark] .colab-df-convert {\n",
              "      background-color: #3B4455;\n",
              "      fill: #D2E3FC;\n",
              "    }\n",
              "\n",
              "    [theme=dark] .colab-df-convert:hover {\n",
              "      background-color: #434B5C;\n",
              "      box-shadow: 0px 1px 3px 1px rgba(0, 0, 0, 0.15);\n",
              "      filter: drop-shadow(0px 1px 2px rgba(0, 0, 0, 0.3));\n",
              "      fill: #FFFFFF;\n",
              "    }\n",
              "  </style>\n",
              "\n",
              "      <script>\n",
              "        const buttonEl =\n",
              "          document.querySelector('#df-41715535-5646-45da-bf8e-1fa63f6ad621 button.colab-df-convert');\n",
              "        buttonEl.style.display =\n",
              "          google.colab.kernel.accessAllowed ? 'block' : 'none';\n",
              "\n",
              "        async function convertToInteractive(key) {\n",
              "          const element = document.querySelector('#df-41715535-5646-45da-bf8e-1fa63f6ad621');\n",
              "          const dataTable =\n",
              "            await google.colab.kernel.invokeFunction('convertToInteractive',\n",
              "                                                     [key], {});\n",
              "          if (!dataTable) return;\n",
              "\n",
              "          const docLinkHtml = 'Like what you see? Visit the ' +\n",
              "            '<a target=\"_blank\" href=https://colab.research.google.com/notebooks/data_table.ipynb>data table notebook</a>'\n",
              "            + ' to learn more about interactive tables.';\n",
              "          element.innerHTML = '';\n",
              "          dataTable['output_type'] = 'display_data';\n",
              "          await google.colab.output.renderOutput(dataTable, element);\n",
              "          const docLink = document.createElement('div');\n",
              "          docLink.innerHTML = docLinkHtml;\n",
              "          element.appendChild(docLink);\n",
              "        }\n",
              "      </script>\n",
              "    </div>\n",
              "  </div>\n",
              "  "
            ]
          },
          "metadata": {},
          "execution_count": 2
        }
      ],
      "source": [
        "# Your code here \n",
        "import torch\n",
        "import torch.nn as nn\n",
        "import torch.nn.functional as F\n",
        "from torch.utils.data import TensorDataset, DataLoader\n",
        "import pandas as pd\n",
        "import numpy as np\n",
        "import zipfile\n",
        "import matplotlib.pyplot as plt\n",
        "import seaborn as sns\n",
        "from tqdm import tqdm\n",
        "tqdm.pandas()\n",
        "#%matplotlib inline\n",
        "from sklearn.model_selection import train_test_split\n",
        "\n",
        "is_cuda = torch.cuda.is_available()\n",
        "\n",
        "# If we have a GPU available, we'll set our device to GPU. We'll use this device variable later in our code.\n",
        "if is_cuda:\n",
        "    device = torch.device(\"cuda\")\n",
        "    print(\"GPU is available\")\n",
        "else:\n",
        "    device = torch.device(\"cpu\")\n",
        "    print(\"GPU not available, CPU used\")\n",
        "\n",
        "df = pd.read_csv('./original_cleaned_lyrics.csv', on_bad_lines='skip')\n",
        "df.columns\n",
        "df = df.replace({'\\n': ' '}, regex=True)\n",
        "df.head()"
      ]
    },
    {
      "cell_type": "code",
      "source": [
        "df.columns"
      ],
      "metadata": {
        "colab": {
          "base_uri": "https://localhost:8080/"
        },
        "id": "CZbaIuPHC_V3",
        "outputId": "923dd9fa-0031-4616-db77-2235900c68a1"
      },
      "execution_count": 3,
      "outputs": [
        {
          "output_type": "execute_result",
          "data": {
            "text/plain": [
              "Index(['song', 'year', 'artist', 'genre', 'lyrics'], dtype='object')"
            ]
          },
          "metadata": {},
          "execution_count": 3
        }
      ]
    },
    {
      "cell_type": "markdown",
      "source": [
        "# Details"
      ],
      "metadata": {
        "id": "oG-DX03NDDff"
      }
    },
    {
      "cell_type": "code",
      "source": [
        "print(\"Data Shape    :\", df.shape)\n",
        "print(\"Song Count    :\", len(df.song.unique()))\n",
        "print(\"Year Count    :\", len(df.year.unique()))\n",
        "print(\"Artist Count  :\", len(df.artist.unique()))\n",
        "print(\"Genre Count   :\", len(df.genre.unique()))"
      ],
      "metadata": {
        "colab": {
          "base_uri": "https://localhost:8080/"
        },
        "id": "PNjjcpshDFH3",
        "outputId": "4d464ed8-02ae-4258-b3b1-00cda2f35bb8"
      },
      "execution_count": 4,
      "outputs": [
        {
          "output_type": "stream",
          "name": "stdout",
          "text": [
            "Data Shape    : (97622, 5)\n",
            "Song Count    : 76614\n",
            "Year Count    : 51\n",
            "Artist Count  : 4885\n",
            "Genre Count   : 12\n"
          ]
        }
      ]
    },
    {
      "cell_type": "markdown",
      "source": [
        "# Word Count Analysis"
      ],
      "metadata": {
        "id": "fkr3rdriDH9Y"
      }
    },
    {
      "cell_type": "code",
      "source": [
        "# count words of lyrics\n",
        "df[\"word_count\"] = df.lyrics.str.split().str.len()\n",
        "df.word_count.describe()"
      ],
      "metadata": {
        "colab": {
          "base_uri": "https://localhost:8080/"
        },
        "id": "6OwFWWSZx4xb",
        "outputId": "6029d748-74a9-47f7-f1fa-38eb6fcce6bf"
      },
      "execution_count": 5,
      "outputs": [
        {
          "output_type": "execute_result",
          "data": {
            "text/plain": [
              "count    97620.000000\n",
              "mean       231.929943\n",
              "std        161.742601\n",
              "min          1.000000\n",
              "25%        132.000000\n",
              "50%        192.000000\n",
              "75%        279.000000\n",
              "max       5806.000000\n",
              "Name: word_count, dtype: float64"
            ]
          },
          "metadata": {},
          "execution_count": 5
        }
      ]
    },
    {
      "cell_type": "code",
      "source": [
        "# density plot with shade\n",
        "sns.kdeplot(df['word_count'], shade=True)\n",
        "plt.show()"
      ],
      "metadata": {
        "colab": {
          "base_uri": "https://localhost:8080/",
          "height": 280
        },
        "id": "p2pv0P-yEBG9",
        "outputId": "dbc16665-31d0-4d41-8b43-96deb591be61"
      },
      "execution_count": 6,
      "outputs": [
        {
          "output_type": "display_data",
          "data": {
            "text/plain": [
              "<Figure size 432x288 with 1 Axes>"
            ],
            "image/png": "[encoded data removed]"
          },
          "metadata": {
            "needs_background": "light"
          }
        }
      ]
    },
    {
      "cell_type": "code",
      "source": [
        "MAX_WORD = 400\n",
        "MIN_WORD = 100\n",
        "# exclude >1000\n",
        "dfClean = df[df.word_count<=MAX_WORD]\n",
        "# exglude also < 100\n",
        "dfClean = dfClean[dfClean.word_count>=MIN_WORD]\n",
        "sns.kdeplot(dfClean['word_count'], shade=True)\n",
        "plt.show()"
      ],
      "metadata": {
        "colab": {
          "base_uri": "https://localhost:8080/",
          "height": 280
        },
        "id": "-KRMyEuWw7Wy",
        "outputId": "c2d41d0c-a761-49f7-db12-e710f6b309ff"
      },
      "execution_count": 7,
      "outputs": [
        {
          "output_type": "display_data",
          "data": {
            "text/plain": [
              "<Figure size 432x288 with 1 Axes>"
            ],
            "image/png": "[encoded data removed]"
          },
          "metadata": {
            "needs_background": "light"
          }
        }
      ]
    },
    {
      "cell_type": "code",
      "source": [
        "sns.violinplot( y=dfClean[\"word_count\"], x=dfClean[\"genre\"])\n",
        "plt.xticks(rotation=45)\n",
        "plt.show()"
      ],
      "metadata": {
        "colab": {
          "base_uri": "https://localhost:8080/",
          "height": 313
        },
        "id": "7skVTulXEEgT",
        "outputId": "8c8a4130-9be8-45b8-9597-699594164262"
      },
      "execution_count": 8,
      "outputs": [
        {
          "output_type": "display_data",
          "data": {
            "text/plain": [
              "<Figure size 432x288 with 1 Axes>"
            ],
            "image/png": "[encoded data removed]"
          },
          "metadata": {
            "needs_background": "light"
          }
        }
      ]
    },
    {
      "cell_type": "code",
      "source": [
        "dfClean.word_count.describe()"
      ],
      "metadata": {
        "colab": {
          "base_uri": "https://localhost:8080/"
        },
        "id": "YY773LJmEK-L",
        "outputId": "be7d0cda-e901-4b98-aae4-89672fe228a0"
      },
      "execution_count": 9,
      "outputs": [
        {
          "output_type": "execute_result",
          "data": {
            "text/plain": [
              "count    74365.000000\n",
              "mean       207.593088\n",
              "std         73.405700\n",
              "min        100.000000\n",
              "25%        148.000000\n",
              "50%        195.000000\n",
              "75%        256.000000\n",
              "max        400.000000\n",
              "Name: word_count, dtype: float64"
            ]
          },
          "metadata": {},
          "execution_count": 9
        }
      ]
    },
    {
      "cell_type": "code",
      "source": [
        "def plot_genres(df):\n",
        "    ## Barplot for Genre count\n",
        "    counts = df.genre.value_counts()\n",
        "    x = counts.keys()\n",
        "    max_count = df.genre.value_counts().max()\n",
        "    proportions = counts/counts.sum()\n",
        "\n",
        "    fig, ax = plt.subplots(figsize=(10,6))\n",
        "    ax.bar(x, counts)\n",
        "    for i, v in enumerate(x):\n",
        "        ax.text(i-0.4, counts[i]+1300, \"%.1f%%\" % (proportions[i]*100), fontweight='bold')\n",
        "    plt.xticks(rotation=45)\n",
        "    plt.yticks(np.arange(0, max_count + max_count/10, max_count/10))\n",
        "    plt.show()\n",
        "\n",
        "plot_genres(dfClean)"
      ],
      "metadata": {
        "colab": {
          "base_uri": "https://localhost:8080/",
          "height": 409
        },
        "id": "r8PKNwk5usLj",
        "outputId": "be1cf4a2-e8e3-443b-dde6-c7ecd469eb8d"
      },
      "execution_count": 10,
      "outputs": [
        {
          "output_type": "display_data",
          "data": {
            "text/plain": [
              "<Figure size 720x432 with 1 Axes>"
            ],
            "image/png": "[encoded data removed]"
          },
          "metadata": {
            "needs_background": "light"
          }
        }
      ]
    },
    {
      "cell_type": "code",
      "source": [
        "# We dont need Not Available and Other genres!\n",
        "# We also exclude R&B, Indie and Folk, since they are very underrepresented\n",
        "removeGenres = [\"Not Available\",\n",
        "               \"Other\",\n",
        "               \"R&B\",\n",
        "               \"Indie\",\n",
        "               \"Folk\",\n",
        "                \"Electronic\",\n",
        "                \"Jazz\",\n",
        "                \"Metal\"]\n",
        "dfNew = dfClean.copy()\n",
        "for g in removeGenres:\n",
        "    dfNew = dfNew[dfNew.genre!=g]\n",
        "dfClean = dfNew\n",
        "del(dfNew)\n",
        "plot_genres(dfClean)"
      ],
      "metadata": {
        "colab": {
          "base_uri": "https://localhost:8080/",
          "height": 403
        },
        "id": "V4KdiDzBuij9",
        "outputId": "fa4f8ca4-731f-40fc-dcad-e58ad44176a1"
      },
      "execution_count": 11,
      "outputs": [
        {
          "output_type": "display_data",
          "data": {
            "text/plain": [
              "<Figure size 720x432 with 1 Axes>"
            ],
            "image/png": "[encoded data removed]"
          },
          "metadata": {
            "needs_background": "light"
          }
        }
      ]
    },
    {
      "cell_type": "code",
      "source": [
        "genre_mapping = {v:k for k, v in enumerate(set(dfClean.genre))}\n",
        "genre_mapping"
      ],
      "metadata": {
        "colab": {
          "base_uri": "https://localhost:8080/"
        },
        "id": "64OCLLUcutm4",
        "outputId": "82de84f6-9f2d-406c-ebac-d1ed71f32775"
      },
      "execution_count": 12,
      "outputs": [
        {
          "output_type": "execute_result",
          "data": {
            "text/plain": [
              "{'Rock': 0, 'Pop': 1, 'Hip-Hop': 2, 'Country': 3}"
            ]
          },
          "metadata": {},
          "execution_count": 12
        }
      ]
    },
    {
      "cell_type": "code",
      "source": [
        "dfClean[\"genre_id\"] = dfClean.genre.replace(genre_mapping)\n",
        "dfClean.head()"
      ],
      "metadata": {
        "colab": {
          "base_uri": "https://localhost:8080/",
          "height": 206
        },
        "id": "GULRzghWuwD4",
        "outputId": "8d3b6bad-3d25-44d7-a98f-5c3bdbe7cbc8"
      },
      "execution_count": 13,
      "outputs": [
        {
          "output_type": "execute_result",
          "data": {
            "text/plain": [
              "                     song    year           artist genre  \\\n",
              "1            then-tell-me  2009.0  beyonce-knowles   Pop   \n",
              "2                 honesty  2009.0  beyonce-knowles   Pop   \n",
              "4           black-culture  2009.0  beyonce-knowles   Pop   \n",
              "5  all-i-could-do-was-cry  2009.0  beyonce-knowles   Pop   \n",
              "6      once-in-a-lifetime  2009.0  beyonce-knowles   Pop   \n",
              "\n",
              "                                              lyrics  word_count  genre_id  \n",
              "1  playin everything so easy it's like you seem s...       258.0         1  \n",
              "2  If you search For tenderness It isn't hard to ...       170.0         1  \n",
              "4  Party the people the people the party it's pop...       312.0         1  \n",
              "5  I heard Church bells ringing I heard A choir s...       144.0         1  \n",
              "6  This is just another day that I would spend Wa...       295.0         1  "
            ],
            "text/html": [
              "\n",
              "  <div id=\"df-3a2df65a-bb29-4348-be89-a725d159663d\">\n",
              "    <div class=\"colab-df-container\">\n",
              "      <div>\n",
              "<style scoped>\n",
              "    .dataframe tbody tr th:only-of-type {\n",
              "        vertical-align: middle;\n",
              "    }\n",
              "\n",
              "    .dataframe tbody tr th {\n",
              "        vertical-align: top;\n",
              "    }\n",
              "\n",
              "    .dataframe thead th {\n",
              "        text-align: right;\n",
              "    }\n",
              "</style>\n",
              "<table border=\"1\" class=\"dataframe\">\n",
              "  <thead>\n",
              "    <tr style=\"text-align: right;\">\n",
              "      <th></th>\n",
              "      <th>song</th>\n",
              "      <th>year</th>\n",
              "      <th>artist</th>\n",
              "      <th>genre</th>\n",
              "      <th>lyrics</th>\n",
              "      <th>word_count</th>\n",
              "      <th>genre_id</th>\n",
              "    </tr>\n",
              "  </thead>\n",
              "  <tbody>\n",
              "    <tr>\n",
              "      <th>1</th>\n",
              "      <td>then-tell-me</td>\n",
              "      <td>2009.0</td>\n",
              "      <td>beyonce-knowles</td>\n",
              "      <td>Pop</td>\n",
              "      <td>playin everything so easy it's like you seem s...</td>\n",
              "      <td>258.0</td>\n",
              "      <td>1</td>\n",
              "    </tr>\n",
              "    <tr>\n",
              "      <th>2</th>\n",
              "      <td>honesty</td>\n",
              "      <td>2009.0</td>\n",
              "      <td>beyonce-knowles</td>\n",
              "      <td>Pop</td>\n",
              "      <td>If you search For tenderness It isn't hard to ...</td>\n",
              "      <td>170.0</td>\n",
              "      <td>1</td>\n",
              "    </tr>\n",
              "    <tr>\n",
              "      <th>4</th>\n",
              "      <td>black-culture</td>\n",
              "      <td>2009.0</td>\n",
              "      <td>beyonce-knowles</td>\n",
              "      <td>Pop</td>\n",
              "      <td>Party the people the people the party it's pop...</td>\n",
              "      <td>312.0</td>\n",
              "      <td>1</td>\n",
              "    </tr>\n",
              "    <tr>\n",
              "      <th>5</th>\n",
              "      <td>all-i-could-do-was-cry</td>\n",
              "      <td>2009.0</td>\n",
              "      <td>beyonce-knowles</td>\n",
              "      <td>Pop</td>\n",
              "      <td>I heard Church bells ringing I heard A choir s...</td>\n",
              "      <td>144.0</td>\n",
              "      <td>1</td>\n",
              "    </tr>\n",
              "    <tr>\n",
              "      <th>6</th>\n",
              "      <td>once-in-a-lifetime</td>\n",
              "      <td>2009.0</td>\n",
              "      <td>beyonce-knowles</td>\n",
              "      <td>Pop</td>\n",
              "      <td>This is just another day that I would spend Wa...</td>\n",
              "      <td>295.0</td>\n",
              "      <td>1</td>\n",
              "    </tr>\n",
              "  </tbody>\n",
              "</table>\n",
              "</div>\n",
              "      <button class=\"colab-df-convert\" onclick=\"convertToInteractive('df-3a2df65a-bb29-4348-be89-a725d159663d')\"\n",
              "              title=\"Convert this dataframe to an interactive table.\"\n",
              "              style=\"display:none;\">\n",
              "        \n",
              "  <svg xmlns=\"http://www.w3.org/2000/svg\" height=\"24px\"viewBox=\"0 0 24 24\"\n",
              "       width=\"24px\">\n",
              "    <path d=\"M0 0h24v24H0V0z\" fill=\"none\"/>\n",
              "    <path d=\"M18.56 5.44l.94 2.06.94-2.06 2.06-.94-2.06-.94-.94-2.06-.94 2.06-2.06.94zm-11 1L8.5 8.5l.94-2.06 2.06-.94-2.06-.94L8.5 2.5l-.94 2.06-2.06.94zm10 10l.94 2.06.94-2.06 2.06-.94-2.06-.94-.94-2.06-.94 2.06-2.06.94z\"/><path d=\"M17.41 7.96l-1.37-1.37c-.4-.4-.92-.59-1.43-.59-.52 0-1.04.2-1.43.59L10.3 9.45l-7.72 7.72c-.78.78-.78 2.05 0 2.83L4 21.41c.39.39.9.59 1.41.59.51 0 1.02-.2 1.41-.59l7.78-7.78 2.81-2.81c.8-.78.8-2.07 0-2.86zM5.41 20L4 18.59l7.72-7.72 1.47 1.35L5.41 20z\"/>\n",
              "  </svg>\n",
              "      </button>\n",
              "      \n",
              "  <style>\n",
              "    .colab-df-container {\n",
              "      display:flex;\n",
              "      flex-wrap:wrap;\n",
              "      gap: 12px;\n",
              "    }\n",
              "\n",
              "    .colab-df-convert {\n",
              "      background-color: #E8F0FE;\n",
              "      border: none;\n",
              "      border-radius: 50%;\n",
              "      cursor: pointer;\n",
              "      display: none;\n",
              "      fill: #1967D2;\n",
              "      height: 32px;\n",
              "      padding: 0 0 0 0;\n",
              "      width: 32px;\n",
              "    }\n",
              "\n",
              "    .colab-df-convert:hover {\n",
              "      background-color: #E2EBFA;\n",
              "      box-shadow: 0px 1px 2px rgba(60, 64, 67, 0.3), 0px 1px 3px 1px rgba(60, 64, 67, 0.15);\n",
              "      fill: #174EA6;\n",
              "    }\n",
              "\n",
              "    [theme=dark] .colab-df-convert {\n",
              "      background-color: #3B4455;\n",
              "      fill: #D2E3FC;\n",
              "    }\n",
              "\n",
              "    [theme=dark] .colab-df-convert:hover {\n",
              "      background-color: #434B5C;\n",
              "      box-shadow: 0px 1px 3px 1px rgba(0, 0, 0, 0.15);\n",
              "      filter: drop-shadow(0px 1px 2px rgba(0, 0, 0, 0.3));\n",
              "      fill: #FFFFFF;\n",
              "    }\n",
              "  </style>\n",
              "\n",
              "      <script>\n",
              "        const buttonEl =\n",
              "          document.querySelector('#df-3a2df65a-bb29-4348-be89-a725d159663d button.colab-df-convert');\n",
              "        buttonEl.style.display =\n",
              "          google.colab.kernel.accessAllowed ? 'block' : 'none';\n",
              "\n",
              "        async function convertToInteractive(key) {\n",
              "          const element = document.querySelector('#df-3a2df65a-bb29-4348-be89-a725d159663d');\n",
              "          const dataTable =\n",
              "            await google.colab.kernel.invokeFunction('convertToInteractive',\n",
              "                                                     [key], {});\n",
              "          if (!dataTable) return;\n",
              "\n",
              "          const docLinkHtml = 'Like what you see? Visit the ' +\n",
              "            '<a target=\"_blank\" href=https://colab.research.google.com/notebooks/data_table.ipynb>data table notebook</a>'\n",
              "            + ' to learn more about interactive tables.';\n",
              "          element.innerHTML = '';\n",
              "          dataTable['output_type'] = 'display_data';\n",
              "          await google.colab.output.renderOutput(dataTable, element);\n",
              "          const docLink = document.createElement('div');\n",
              "          docLink.innerHTML = docLinkHtml;\n",
              "          element.appendChild(docLink);\n",
              "        }\n",
              "      </script>\n",
              "    </div>\n",
              "  </div>\n",
              "  "
            ]
          },
          "metadata": {},
          "execution_count": 13
        }
      ]
    },
    {
      "cell_type": "code",
      "source": [
        "from sklearn.model_selection import train_test_split\n",
        "\n",
        "df_train, df_test = train_test_split(dfClean[[\"genre\", \"lyrics\", \"genre_id\"]], test_size=0.1, random_state=12345)\n",
        "df_train, df_val = train_test_split(df_train, test_size=0.11, random_state = 12345)\n",
        "print(\"Train Data :\", df_train.shape, \n",
        "      \"\\nVal Data   :\", df_val.shape, \n",
        "      \"\\nTest Data  :\", df_test.shape)\n",
        "df_train.head()"
      ],
      "metadata": {
        "colab": {
          "base_uri": "https://localhost:8080/",
          "height": 258
        },
        "id": "AQ3jzQ8ruzkM",
        "outputId": "fa4d538e-67cd-46fe-f280-06d4fadd7d08"
      },
      "execution_count": 14,
      "outputs": [
        {
          "output_type": "stream",
          "name": "stdout",
          "text": [
            "Train Data : (46788, 3) \n",
            "Val Data   : (5783, 3) \n",
            "Test Data  : (5842, 3)\n"
          ]
        },
        {
          "output_type": "execute_result",
          "data": {
            "text/plain": [
              "         genre                                             lyrics  genre_id\n",
              "34613      Pop  I've felt this way for a while Like time is st...         1\n",
              "70130  Hip-Hop  I just came to throw you ho's some dough pop t...         2\n",
              "37029      Pop   Anthony Henry soy todo oido Henry Esa mujer s...         1\n",
              "14652     Rock  I am anger Under pressure Lost it cages A pris...         0\n",
              "74524  Country  Have you ever been down to a country dance And...         3"
            ],
            "text/html": [
              "\n",
              "  <div id=\"df-6e7b2301-6997-454f-b88b-c208213f803a\">\n",
              "    <div class=\"colab-df-container\">\n",
              "      <div>\n",
              "<style scoped>\n",
              "    .dataframe tbody tr th:only-of-type {\n",
              "        vertical-align: middle;\n",
              "    }\n",
              "\n",
              "    .dataframe tbody tr th {\n",
              "        vertical-align: top;\n",
              "    }\n",
              "\n",
              "    .dataframe thead th {\n",
              "        text-align: right;\n",
              "    }\n",
              "</style>\n",
              "<table border=\"1\" class=\"dataframe\">\n",
              "  <thead>\n",
              "    <tr style=\"text-align: right;\">\n",
              "      <th></th>\n",
              "      <th>genre</th>\n",
              "      <th>lyrics</th>\n",
              "      <th>genre_id</th>\n",
              "    </tr>\n",
              "  </thead>\n",
              "  <tbody>\n",
              "    <tr>\n",
              "      <th>34613</th>\n",
              "      <td>Pop</td>\n",
              "      <td>I've felt this way for a while Like time is st...</td>\n",
              "      <td>1</td>\n",
              "    </tr>\n",
              "    <tr>\n",
              "      <th>70130</th>\n",
              "      <td>Hip-Hop</td>\n",
              "      <td>I just came to throw you ho's some dough pop t...</td>\n",
              "      <td>2</td>\n",
              "    </tr>\n",
              "    <tr>\n",
              "      <th>37029</th>\n",
              "      <td>Pop</td>\n",
              "      <td>Anthony Henry soy todo oido Henry Esa mujer s...</td>\n",
              "      <td>1</td>\n",
              "    </tr>\n",
              "    <tr>\n",
              "      <th>14652</th>\n",
              "      <td>Rock</td>\n",
              "      <td>I am anger Under pressure Lost it cages A pris...</td>\n",
              "      <td>0</td>\n",
              "    </tr>\n",
              "    <tr>\n",
              "      <th>74524</th>\n",
              "      <td>Country</td>\n",
              "      <td>Have you ever been down to a country dance And...</td>\n",
              "      <td>3</td>\n",
              "    </tr>\n",
              "  </tbody>\n",
              "</table>\n",
              "</div>\n",
              "      <button class=\"colab-df-convert\" onclick=\"convertToInteractive('df-6e7b2301-6997-454f-b88b-c208213f803a')\"\n",
              "              title=\"Convert this dataframe to an interactive table.\"\n",
              "              style=\"display:none;\">\n",
              "        \n",
              "  <svg xmlns=\"http://www.w3.org/2000/svg\" height=\"24px\"viewBox=\"0 0 24 24\"\n",
              "       width=\"24px\">\n",
              "    <path d=\"M0 0h24v24H0V0z\" fill=\"none\"/>\n",
              "    <path d=\"M18.56 5.44l.94 2.06.94-2.06 2.06-.94-2.06-.94-.94-2.06-.94 2.06-2.06.94zm-11 1L8.5 8.5l.94-2.06 2.06-.94-2.06-.94L8.5 2.5l-.94 2.06-2.06.94zm10 10l.94 2.06.94-2.06 2.06-.94-2.06-.94-.94-2.06-.94 2.06-2.06.94z\"/><path d=\"M17.41 7.96l-1.37-1.37c-.4-.4-.92-.59-1.43-.59-.52 0-1.04.2-1.43.59L10.3 9.45l-7.72 7.72c-.78.78-.78 2.05 0 2.83L4 21.41c.39.39.9.59 1.41.59.51 0 1.02-.2 1.41-.59l7.78-7.78 2.81-2.81c.8-.78.8-2.07 0-2.86zM5.41 20L4 18.59l7.72-7.72 1.47 1.35L5.41 20z\"/>\n",
              "  </svg>\n",
              "      </button>\n",
              "      \n",
              "  <style>\n",
              "    .colab-df-container {\n",
              "      display:flex;\n",
              "      flex-wrap:wrap;\n",
              "      gap: 12px;\n",
              "    }\n",
              "\n",
              "    .colab-df-convert {\n",
              "      background-color: #E8F0FE;\n",
              "      border: none;\n",
              "      border-radius: 50%;\n",
              "      cursor: pointer;\n",
              "      display: none;\n",
              "      fill: #1967D2;\n",
              "      height: 32px;\n",
              "      padding: 0 0 0 0;\n",
              "      width: 32px;\n",
              "    }\n",
              "\n",
              "    .colab-df-convert:hover {\n",
              "      background-color: #E2EBFA;\n",
              "      box-shadow: 0px 1px 2px rgba(60, 64, 67, 0.3), 0px 1px 3px 1px rgba(60, 64, 67, 0.15);\n",
              "      fill: #174EA6;\n",
              "    }\n",
              "\n",
              "    [theme=dark] .colab-df-convert {\n",
              "      background-color: #3B4455;\n",
              "      fill: #D2E3FC;\n",
              "    }\n",
              "\n",
              "    [theme=dark] .colab-df-convert:hover {\n",
              "      background-color: #434B5C;\n",
              "      box-shadow: 0px 1px 3px 1px rgba(0, 0, 0, 0.15);\n",
              "      filter: drop-shadow(0px 1px 2px rgba(0, 0, 0, 0.3));\n",
              "      fill: #FFFFFF;\n",
              "    }\n",
              "  </style>\n",
              "\n",
              "      <script>\n",
              "        const buttonEl =\n",
              "          document.querySelector('#df-6e7b2301-6997-454f-b88b-c208213f803a button.colab-df-convert');\n",
              "        buttonEl.style.display =\n",
              "          google.colab.kernel.accessAllowed ? 'block' : 'none';\n",
              "\n",
              "        async function convertToInteractive(key) {\n",
              "          const element = document.querySelector('#df-6e7b2301-6997-454f-b88b-c208213f803a');\n",
              "          const dataTable =\n",
              "            await google.colab.kernel.invokeFunction('convertToInteractive',\n",
              "                                                     [key], {});\n",
              "          if (!dataTable) return;\n",
              "\n",
              "          const docLinkHtml = 'Like what you see? Visit the ' +\n",
              "            '<a target=\"_blank\" href=https://colab.research.google.com/notebooks/data_table.ipynb>data table notebook</a>'\n",
              "            + ' to learn more about interactive tables.';\n",
              "          element.innerHTML = '';\n",
              "          dataTable['output_type'] = 'display_data';\n",
              "          await google.colab.output.renderOutput(dataTable, element);\n",
              "          const docLink = document.createElement('div');\n",
              "          docLink.innerHTML = docLinkHtml;\n",
              "          element.appendChild(docLink);\n",
              "        }\n",
              "      </script>\n",
              "    </div>\n",
              "  </div>\n",
              "  "
            ]
          },
          "metadata": {},
          "execution_count": 14
        }
      ]
    },
    {
      "cell_type": "code",
      "source": [
        "lyricLimit = min(df_train.groupby(\"genre\").count().lyrics)\n",
        "print(\"Lyric Limit per Genre:\", lyricLimit)\n",
        "genres = df_train.genre.unique()\n",
        "balanced_df_train = pd.DataFrame()\n",
        "for g in genres:\n",
        "    balanced_df_train = balanced_df_train.append(df_train[df_train.genre==g].sample(lyricLimit, replace=False, random_state=12345))"
      ],
      "metadata": {
        "colab": {
          "base_uri": "https://localhost:8080/"
        },
        "id": "nNntxaXyu2QO",
        "outputId": "d18c1290-0049-4837-e067-377eea6262f8"
      },
      "execution_count": 15,
      "outputs": [
        {
          "output_type": "stream",
          "name": "stdout",
          "text": [
            "Lyric Limit per Genre: 2557\n"
          ]
        }
      ]
    },
    {
      "cell_type": "code",
      "source": [
        "df_train = balanced_df_train\n",
        "del(balanced_df_train)\n",
        "plot_genres(df_train)\n",
        "print(\"Train Data :\", df_train.shape)"
      ],
      "metadata": {
        "colab": {
          "base_uri": "https://localhost:8080/",
          "height": 567
        },
        "id": "EtS-g26Ou4lQ",
        "outputId": "e15999a1-1def-423c-f050-fc4d3627b509"
      },
      "execution_count": 16,
      "outputs": [
        {
          "output_type": "display_data",
          "data": {
            "text/plain": [
              "<Figure size 720x432 with 1 Axes>"
            ],
            "image/png": "[encoded data removed]"
          },
          "metadata": {
            "needs_background": "light"
          }
        },
        {
          "output_type": "stream",
          "name": "stdout",
          "text": [
            "Train Data : (10228, 3)\n"
          ]
        }
      ]
    },
    {
      "cell_type": "code",
      "source": [
        "df_train.to_csv(\"./train_unclean.csv\")\n",
        "df_val.to_csv(\"./val_unclean.csv\")\n",
        "df_test.to_csv(\"./test_unclean.csv\")"
      ],
      "metadata": {
        "id": "6tYrwHGKxlFN"
      },
      "execution_count": 17,
      "outputs": []
    },
    {
      "cell_type": "code",
      "source": [
        "import pandas as pd\n",
        "import numpy as np\n",
        "import zipfile\n",
        "import matplotlib.pyplot as plt\n",
        "import seaborn as sns\n",
        "from tqdm import tqdm\n",
        "#import D.downloader as api\n",
        "import sys\n",
        "import spacy\n",
        "import os\n",
        "import torch\n",
        "from datetime import datetime\n",
        "\n",
        "from torch.utils.data import Dataset\n",
        "settings = {\n",
        "    \"embedding_settings\": {\n",
        "        \"embedding_type\": \"glove\",\n",
        "        \"embedding_model\": \"glove-wiki-gigaword-300\",\n",
        "        \"index_or_tokens\": \"index\"\n",
        "    },\n",
        "    \"train_data\": \"./data/glove_ids_train.csv.zip\",\n",
        "    \"val_data\": \"./data/glove_ids_val.csv.zip\",\n",
        "    \"test_data\": \"./data/glove_ids_test.csv.zip\"\n",
        "}\n",
        "\n",
        "\n",
        "class MyDataset(Dataset):\n",
        "    def __init__(self,\n",
        "                 path_data,\n",
        "                 max_seq_len=250):\n",
        "        self.max_seq_len = max_seq_len\n",
        "        self.X, self.y_id, self.y_label = self._load_data(path_data)\n",
        "\n",
        "    def _load_data(self, data_path):\n",
        "        data = pd.read_csv(data_path, index_col=[0])\n",
        "        X = [[int(id) for id in row.split()] for row in data.lyrics.values]\n",
        "        y_label = data.genre.values\n",
        "        y_id = data.genre_id.values\n",
        "        return (X, y_id, y_label)\n",
        "\n",
        "    def __len__(self):\n",
        "        return len(self.X)\n",
        "\n",
        "    def __iter__(self):\n",
        "        for i in range(len(self)):\n",
        "            yield self[i]\n",
        "\n",
        "    def __getitem__(self, index):\n",
        "        _X = np.zeros(self.max_seq_len, dtype=np.int64)\n",
        "        # all indexes are incremented since we have additional Padding token is added\n",
        "        # to the model embeddings for index 0 in the model definitions\n",
        "        item = self.X[index]\n",
        "        max_i = self.max_seq_len if self.max_seq_len < len(item) else len(item)\n",
        "        _X[:max_i] = np.int64(item[:max_i]) + 1\n",
        "        return (index, _X, self.y_id[index], self.y_label[index])\n",
        "\n",
        "\n",
        "def _batch_to_tensor(batch):\n",
        "    index, _X, target_id, target_label = zip(*batch)\n",
        "    return torch.LongTensor(_X), torch.LongTensor(target_id)\n",
        "\n",
        "\n",
        "class MyDataset_WithPreprocess(Dataset):\n",
        "    def __init__(self,\n",
        "                 path_data,\n",
        "                 emb_model,\n",
        "                 emb_type,\n",
        "                 max_seq_len=250,\n",
        "                 input_type=\"index\",\n",
        "                 store_processed=False,\n",
        "                 output_dir=\"\"):\n",
        "        \"\"\"\n",
        "        :param path_data:\n",
        "            path for data location\n",
        "        :param emb_model:\n",
        "            a gensim.models.keyedvectors object for glove or word2vec embeddings\n",
        "            or BertTokenizer for BERT embeddings\n",
        "        :param emb_type:\n",
        "            \"gensim\" or \"bert\"\n",
        "        :param max_seq_len:\n",
        "            max_seq_len that will be input of the model\n",
        "            default:250\n",
        "            smaller sequences will be adjusted with PADDING\n",
        "        :param input_type:\n",
        "            \"unclean\":\n",
        "                It will expect the sentences as it is in the dataset and it will apply following steps:\n",
        "                    - pre-processing (lowercase, rm stopwords),\n",
        "                    - tokenize (split the text)\n",
        "                    - converting to id\n",
        "            \"clean\":\n",
        "                It will expect the sentences already preprocessed and it will apply only following steps:\n",
        "                    - tokenize,\n",
        "                    - converting to id\n",
        "            \"index\":\n",
        "                It will expect the tokens in the sentence already converted to ids for the current\n",
        "                embedding model and it will apply only following steps:\n",
        "                    - tokenize (split text, ids are stored as text and separated with whitespace.\n",
        "        :param output_dir:\n",
        "            If it is sent, resulting preprocessed data will be stored at that dir as csv.\n",
        "            If store_preprocessed is False, this parameter will be ignored.\n",
        "        \"\"\"\n",
        "        # if store_preprocess = True: then it will store all indexes and training will be faster\n",
        "        # else: it will preprocess it during __getitem__ function and this will make training slower...\n",
        "        self.input_type = input_type\n",
        "        self.emb_model = emb_model\n",
        "        self.emb_type = emb_type\n",
        "        self.store_preprocess = store_processed\n",
        "        self.max_seq_len = max_seq_len\n",
        "        self.output_dir = os.path.abspath(output_dir)\n",
        "\n",
        "        if self.input_type == \"unclean\":\n",
        "            self.nlp = spacy.load(\"en_core_web_sm\", disable=[\"tagger\", \"parser\", \"ner\"])\n",
        "\n",
        "        if self.emb_type==\"bert\":\n",
        "            self.func_w2i = self._bert_w2id\n",
        "        elif self.emb_type==\"gensim\":\n",
        "            self.func_w2i = self._gensim_w2id\n",
        "        else:\n",
        "            sys.exit(\"Unrecognized emb_type in MyDataset_WithPreprocess Class\")\n",
        "\n",
        "\n",
        "\n",
        "        self.X, self.y_id, self.y_label = self._load_data(path_data)\n",
        "\n",
        "    def _load_data(self, data_path):\n",
        "        data = pd.read_csv(data_path, index_col=[0])\n",
        "        if self.store_preprocess and self.input_type != \"index\":\n",
        "            print(f\"Store Preprocess mode is activated. \\nPreprocessing is started for {self.input_type} settings\")\n",
        "            if self.input_type == \"unclean\":\n",
        "                print(\"Preprocess and tokenize the input...\")\n",
        "                X = [self.preprocess(self.nlp, lyric) for lyric in data.lyrics.values]   # clean the tokens\n",
        "                print(\"Convert tokens to ids...\")\n",
        "                X = [self.func_w2i(token_list) for token_list in X]                 # convert tokens to ids\n",
        "            elif self.input_type == \"clean\":\n",
        "                X = [lyric.split() for lyric in data.lyrics.values]                 # clean tokens\n",
        "                X = [self.func_w2i(token_list) for token_list in X]                 # convert tokens to ids\n",
        "            else:\n",
        "                sys.exit(\"Unrecognized input type in MyDataset_WithPreprocess Class\")\n",
        "            path_out = os.path.join(self.output_dir, f\"{datetime.now().strftime('%y-%m-%d_%H%M%S')}_ids.csv.zip\")\n",
        "            print(f\"Preprocessing ended! \\nResults are saving to: \\n\\t{path_out}\")\n",
        "            tmp = pd.DataFrame({\n",
        "                \"lyrics\": [\" \".join([str(i) for i in id_list]) for id_list in X],\n",
        "                \"_lyrics\": data.lyrics.values,\n",
        "                \"genre\": data.genre.values,\n",
        "                \"genre_id\": data.genre_id.values\n",
        "            })\n",
        "            tmp.to_csv(path_out, compression=\"zip\")\n",
        "\n",
        "        else:\n",
        "            # load what we have in the lyrics directly\n",
        "            if self.input_type == \"index\":\n",
        "                X = [[int(word) for word in lyric.split()] for lyric in data.lyrics.values]\n",
        "            else:\n",
        "                X = [[word for word in lyric.split()] for lyric in data.lyrics.values]\n",
        "\n",
        "        y_label = data.genre.values\n",
        "        y_id = data.genre_id.values\n",
        "        return (X, y_id, y_label)\n",
        "\n",
        "    def __len__(self):\n",
        "        return len(self.X)\n",
        "\n",
        "    def __iter__(self):\n",
        "        for i in range(len(self)):\n",
        "            yield self[i]\n",
        "\n",
        "    def __getitem__(self, index):\n",
        "        _X = np.zeros(self.max_seq_len, dtype=np.int64)\n",
        "        # all indexes are incremented since we have additional Padding token is added\n",
        "        # to the model embeddings for index 0 in the model definitions\n",
        "        item = self.X[index]\n",
        "        if not self.store_preprocess:\n",
        "            if self.input_type == \"unclean\":\n",
        "                item = self.preprocess(self.nlp, \" \".join(item))   # clean tokens\n",
        "                item = self.func_w2i(item)                        # convert tokens to ids\n",
        "\n",
        "            elif self.input_type == \"clean\":\n",
        "                item = self.func_w2i(item)\n",
        "            elif self.input_type == \"index\":\n",
        "                pass\n",
        "            else:\n",
        "                sys.exit(\"Unrecognized input type in MyDataset_WithPreprocess Class\")\n",
        "        max_i = self.max_seq_len if self.max_seq_len < len(item) else len(item)\n",
        "        const = 1 if self.emb_type == \"gensim\" else 0\n",
        "        _X[:max_i] = np.int64(item[:max_i]) + const\n",
        "        return index, _X, self.y_id[index], self.y_label[index]\n",
        "\n",
        "    def _gensim_w2id(self, tokens):\n",
        "        \"\"\"\n",
        "        :param tokens: <list> that contains tokens\n",
        "        :return: <list> contains ids for the\n",
        "        \"\"\"\n",
        "        ids = [self.emb_model.index2word.index(token)\n",
        "               for token\n",
        "               in tokens\n",
        "               if token in self.emb_model.index2word]\n",
        "        return ids\n",
        "\n",
        "    def _bert_w2id(self, tokens):\n",
        "        \"\"\"\n",
        "        :param tokens: <list> that contains tokens\n",
        "        :return: <list> contains ids for the\n",
        "        \"\"\"\n",
        "        ids = [self.emb_model.encode(token)[0]\n",
        "               for token in tokens]\n",
        "        return ids\n",
        "\n",
        "    @staticmethod\n",
        "    def preprocess(nlp, text):\n",
        "        \"\"\"returns a list of preprocessed tokens (tokens are strings/words)\"\"\"\n",
        "        doc = nlp(text)\n",
        "        out = [token.lemma_.lower() for token in doc if not token.is_stop and token.lemma_.isalpha()]\n",
        "        return out"
      ],
      "metadata": {
        "id": "HJv8pPh_u8an"
      },
      "execution_count": 18,
      "outputs": []
    },
    {
      "cell_type": "markdown",
      "source": [
        "# Bert BERT Preprocessing\n"
      ],
      "metadata": {
        "id": "D2uqdFBFvGgA"
      }
    },
    {
      "cell_type": "code",
      "source": [
        "from transformers import AutoTokenizer\n",
        "#### BERT MODEL\n",
        "model_name = \"distilbert-base-uncased\"\n",
        "bertTokenizer = AutoTokenizer.from_pretrained(model_name)"
      ],
      "metadata": {
        "id": "8v7dSPlovAiq"
      },
      "execution_count": null,
      "outputs": []
    },
    {
      "cell_type": "code",
      "source": [
        "%%time\n",
        "train_dataset = MyDataset_WithPreprocess(path_data=\"./train_unclean.csv\",\n",
        "                                         emb_model=bertTokenizer,\n",
        "                                         emb_type=\"bert\",\n",
        "                                         max_seq_len=200,\n",
        "                                         input_type=\"unclean\",\n",
        "                                         store_processed=True,\n",
        "                                         output_dir=\"./data/\")"
      ],
      "metadata": {
        "colab": {
          "base_uri": "https://localhost:8080/"
        },
        "id": "FDOypw6Jysjk",
        "outputId": "052d27a0-8e0e-4b35-c961-4dda7f1f372e"
      },
      "execution_count": null,
      "outputs": [
        {
          "output_type": "stream",
          "name": "stdout",
          "text": [
            "Store Preprocess mode is activated. \n",
            "Preprocessing is started for unclean settings\n",
            "Preprocess and tokenize the input...\n"
          ]
        },
        {
          "output_type": "stream",
          "name": "stderr",
          "text": [
            "/usr/local/lib/python3.8/dist-packages/spacy/pipeline/lemmatizer.py:211: UserWarning: [W108] The rule-based lemmatizer did not find POS annotation for one or more tokens. Check that your pipeline includes components that assign token.pos, typically 'tagger'+'attribute_ruler' or 'morphologizer'.\n",
            "  warnings.warn(Warnings.W108)\n"
          ]
        },
        {
          "output_type": "stream",
          "name": "stdout",
          "text": [
            "Convert tokens to ids...\n",
            "Preprocessing ended! \n",
            "Results are saving to: \n",
            "\t/content/data/23-03-05_224042_ids.csv.zip\n",
            "CPU times: user 3min 45s, sys: 1.15 s, total: 3min 46s\n",
            "Wall time: 3min 55s\n"
          ]
        }
      ]
    },
    {
      "cell_type": "code",
      "source": [
        "%%time\n",
        "val_dataset = MyDataset_WithPreprocess(path_data=\"./val_unclean.csv\",\n",
        "                                       emb_model=bertTokenizer,\n",
        "                                       emb_type=\"bert\",\n",
        "                                       max_seq_len=200,\n",
        "                                       input_type=\"unclean\",\n",
        "                                       store_processed=True,\n",
        "                                       output_dir=\"./data/\")"
      ],
      "metadata": {
        "colab": {
          "base_uri": "https://localhost:8080/"
        },
        "id": "r5vXiw2DyzWn",
        "outputId": "16111022-8f78-4879-c34b-9703e1f1d96d"
      },
      "execution_count": null,
      "outputs": [
        {
          "output_type": "stream",
          "name": "stdout",
          "text": [
            "Store Preprocess mode is activated. \n",
            "Preprocessing is started for unclean settings\n",
            "Preprocess and tokenize the input...\n",
            "Convert tokens to ids...\n",
            "Preprocessing ended! \n",
            "Results are saving to: \n",
            "\t/content/data/23-03-05_224243_ids.csv.zip\n",
            "CPU times: user 1min 58s, sys: 443 ms, total: 1min 59s\n",
            "Wall time: 2min\n"
          ]
        }
      ]
    },
    {
      "cell_type": "code",
      "source": [
        "%%time\n",
        "test_dataset = MyDataset_WithPreprocess(path_data=\"./test_unclean.csv\",\n",
        "                                        emb_model=bertTokenizer,\n",
        "                                        emb_type=\"bert\",\n",
        "                                        max_seq_len=200,\n",
        "                                        input_type=\"unclean\",\n",
        "                                        store_processed=True,\n",
        "                                        output_dir=\"./data/\")"
      ],
      "metadata": {
        "colab": {
          "base_uri": "https://localhost:8080/"
        },
        "id": "UbKRB2q-y3DO",
        "outputId": "08a63b7e-dbf9-4416-ad48-3fef622cdc68"
      },
      "execution_count": null,
      "outputs": [
        {
          "output_type": "stream",
          "name": "stdout",
          "text": [
            "Store Preprocess mode is activated. \n",
            "Preprocessing is started for unclean settings\n",
            "Preprocess and tokenize the input...\n",
            "Convert tokens to ids...\n",
            "Preprocessing ended! \n",
            "Results are saving to: \n",
            "\t/content/data/23-03-05_224440_ids.csv.zip\n",
            "CPU times: user 1min 57s, sys: 351 ms, total: 1min 57s\n",
            "Wall time: 1min 58s\n"
          ]
        }
      ]
    },
    {
      "cell_type": "markdown",
      "source": [
        "# GloVe Preprocessing"
      ],
      "metadata": {
        "id": "DbqdBMqkHASu"
      }
    },
    {
      "cell_type": "code",
      "source": [
        "import gensim.downloader as api\n",
        "model_name = 'glove-wiki-gigaword-300' \n",
        "glove_model = api.load(model_name)"
      ],
      "metadata": {
        "colab": {
          "base_uri": "https://localhost:8080/"
        },
        "id": "rHH2PuHwHEN2",
        "outputId": "6be868ef-76b5-4b6c-e046-36b4bc27e245"
      },
      "execution_count": 19,
      "outputs": [
        {
          "output_type": "stream",
          "name": "stdout",
          "text": [
            "[==================================================] 100.0% 376.1/376.1MB downloaded\n"
          ]
        }
      ]
    },
    {
      "cell_type": "code",
      "source": [
        "%%time\n",
        "train_dataset = MyDataset_WithPreprocess(path_data=\"./train_unclean.csv\",\n",
        "                                         emb_model=glove_model,\n",
        "                                         emb_type=\"gensim\",\n",
        "                                         max_seq_len=200,\n",
        "                                         input_type=\"unclean\",\n",
        "                                         store_processed=True,\n",
        "                                         output_dir=\"./data/\")"
      ],
      "metadata": {
        "colab": {
          "base_uri": "https://localhost:8080/"
        },
        "id": "SyVvTMhaHHI0",
        "outputId": "2e86b18f-d584-4369-ff4d-d1e6703ee50b"
      },
      "execution_count": 20,
      "outputs": [
        {
          "output_type": "stream",
          "name": "stdout",
          "text": [
            "Store Preprocess mode is activated. \n",
            "Preprocessing is started for unclean settings\n",
            "Preprocess and tokenize the input...\n"
          ]
        },
        {
          "output_type": "stream",
          "name": "stderr",
          "text": [
            "/usr/local/lib/python3.8/dist-packages/spacy/pipeline/lemmatizer.py:211: UserWarning: [W108] The rule-based lemmatizer did not find POS annotation for one or more tokens. Check that your pipeline includes components that assign token.pos, typically 'tagger'+'attribute_ruler' or 'morphologizer'.\n",
            "  warnings.warn(Warnings.W108)\n"
          ]
        },
        {
          "output_type": "stream",
          "name": "stdout",
          "text": [
            "Convert tokens to ids...\n",
            "Preprocessing ended! \n",
            "Results are saving to: \n",
            "\t/content/data/23-03-06_122522_ids.csv.zip\n",
            "CPU times: user 15min 1s, sys: 3.89 s, total: 15min 5s\n",
            "Wall time: 15min 15s\n"
          ]
        }
      ]
    },
    {
      "cell_type": "code",
      "source": [
        "%%time\n",
        "val_dataset = MyDataset_WithPreprocess(path_data=\"./val_unclean.csv\",\n",
        "                                       emb_model=glove_model,\n",
        "                                       emb_type=\"gensim\",\n",
        "                                       max_seq_len=200,\n",
        "                                       input_type=\"unclean\",\n",
        "                                       store_processed=True,\n",
        "                                       output_dir=\"./data/\")"
      ],
      "metadata": {
        "colab": {
          "base_uri": "https://localhost:8080/"
        },
        "id": "VsxjlIzCHQPH",
        "outputId": "e8109365-42c2-4948-efcd-25c081d4eb84"
      },
      "execution_count": 21,
      "outputs": [
        {
          "output_type": "stream",
          "name": "stdout",
          "text": [
            "Store Preprocess mode is activated. \n",
            "Preprocessing is started for unclean settings\n",
            "Preprocess and tokenize the input...\n",
            "Convert tokens to ids...\n",
            "Preprocessing ended! \n",
            "Results are saving to: \n",
            "\t/content/data/23-03-06_123234_ids.csv.zip\n",
            "CPU times: user 7min 6s, sys: 1.78 s, total: 7min 8s\n",
            "Wall time: 7min 11s\n"
          ]
        }
      ]
    },
    {
      "cell_type": "code",
      "source": [
        "%%time\n",
        "test_dataset = MyDataset_WithPreprocess(path_data=\"./test_unclean.csv\",\n",
        "                                        emb_model=glove_model,\n",
        "                                        emb_type=\"gensim\",\n",
        "                                        max_seq_len=200,\n",
        "                                        input_type=\"unclean\",\n",
        "                                        store_processed=True,\n",
        "                                        output_dir=\"./data/\")"
      ],
      "metadata": {
        "colab": {
          "base_uri": "https://localhost:8080/"
        },
        "id": "vxcZM13iHU1N",
        "outputId": "5bf54e1e-9969-4c87-de0a-f4df80f02e59"
      },
      "execution_count": 22,
      "outputs": [
        {
          "output_type": "stream",
          "name": "stdout",
          "text": [
            "Store Preprocess mode is activated. \n",
            "Preprocessing is started for unclean settings\n",
            "Preprocess and tokenize the input...\n",
            "Convert tokens to ids...\n",
            "Preprocessing ended! \n",
            "Results are saving to: \n",
            "\t/content/data/23-03-06_123944_ids.csv.zip\n",
            "CPU times: user 7min 7s, sys: 1.95 s, total: 7min 9s\n",
            "Wall time: 7min 10s\n"
          ]
        }
      ]
    },
    {
      "cell_type": "markdown",
      "source": [
        "# Svm preprocess"
      ],
      "metadata": {
        "id": "ODOGQTs4-k6C"
      }
    },
    {
      "cell_type": "code",
      "source": [
        "# Your code here \n",
        "from nltk.stem.snowball import stopwords\n",
        "import re\n",
        "import nltk\n",
        "from nltk.tokenize import word_tokenize\n",
        "from nltk.stem import WordNetLemmatizer\n",
        "\n",
        "\n",
        "\n",
        "def clean_data(song_lyrics, stop_words):\n",
        "  song_lyrics = re.sub(r'[A-Z]+', lambda b: b.group(0).lower(), song_lyrics)\n",
        "  song_lyrics = re.sub(r'<[^>]+>', '', song_lyrics)\n",
        "  song_lyrics = re.sub(r'https?:\\/\\/.*?[\\s+]', '', song_lyrics) # remove url\n",
        "  song_lyrics = re.sub(r'[^a-z0-9_\\s]', '', song_lyrics) # alphanumeric words\n",
        "  song_lyrics = re.sub(r'[^\\x00-\\x7f]', '', song_lyrics)\n",
        "  song_lyrics = re.sub(r' +', ' ', song_lyrics)\n",
        "  pattern = r'([.,!?-])'\n",
        "  song_lyrics = re.sub(pattern, r' \\1 ', song_lyrics)     # add whitespaces between punctuation\n",
        "  song_lyrics = re.sub(r'\\s{2,}', ' ', song_lyrics)   \n",
        "\n",
        "  word_tokens = word_tokenize(song_lyrics)\n",
        "  filtered = [w for w in word_tokens if not w.lower() in stop_words]\n",
        "  tokenized_song_lyrics = []\n",
        "  for word in filtered:\n",
        "    lemmetized_word = lemmatizer.lemmatize(word)\n",
        "    tokenized_song_lyrics.append(lemmetized_word)\n",
        "  return tokenized_song_lyrics\n",
        "\n",
        "\n",
        "nltk.download('stopwords')\n",
        "nltk.download('punkt')\n",
        "nltk.download('wordnet')\n",
        "nltk.download('omw-1.4')\n",
        "\n",
        "stop_words = set(stopwords.words('english'))\n",
        "lemmatizer = WordNetLemmatizer()\n",
        "\n",
        "\n",
        "print(\"Before: \")\n",
        "df_train.head()\n",
        "\n",
        "for index, row in df_train.iterrows():\n",
        "  df_train['lyrics'][index] = clean_data(df_train['lyrics'][index], stop_words)\n",
        "for index, row in df_test.iterrows():\n",
        "  df_test['lyrics'][index] = clean_data(df_test['lyrics'][index], stop_words)\n",
        "\n",
        "\n",
        "print(\"After: \")\n",
        "df_train.head()"
      ],
      "metadata": {
        "colab": {
          "base_uri": "https://localhost:8080/",
          "height": 518
        },
        "id": "So_gksDV-nor",
        "outputId": "b317d8d6-eaf5-43d8-88b7-f6c7cc9b8d28"
      },
      "execution_count": 38,
      "outputs": [
        {
          "output_type": "stream",
          "name": "stderr",
          "text": [
            "[nltk_data] Downloading package stopwords to /root/nltk_data...\n",
            "[nltk_data]   Unzipping corpora/stopwords.zip.\n",
            "[nltk_data] Downloading package punkt to /root/nltk_data...\n",
            "[nltk_data]   Unzipping tokenizers/punkt.zip.\n",
            "[nltk_data] Downloading package wordnet to /root/nltk_data...\n",
            "[nltk_data] Downloading package omw-1.4 to /root/nltk_data...\n"
          ]
        },
        {
          "output_type": "stream",
          "name": "stdout",
          "text": [
            "Before: \n"
          ]
        },
        {
          "output_type": "stream",
          "name": "stderr",
          "text": [
            "<ipython-input-38-31fc6d749850>:43: SettingWithCopyWarning: \n",
            "A value is trying to be set on a copy of a slice from a DataFrame\n",
            "\n",
            "See the caveats in the documentation: https://pandas.pydata.org/pandas-docs/stable/user_guide/indexing.html#returning-a-view-versus-a-copy\n",
            "  df_train['lyrics'][index] = clean_data(df_train['lyrics'][index], stop_words)\n",
            "<ipython-input-38-31fc6d749850>:45: SettingWithCopyWarning: \n",
            "A value is trying to be set on a copy of a slice from a DataFrame\n",
            "\n",
            "See the caveats in the documentation: https://pandas.pydata.org/pandas-docs/stable/user_guide/indexing.html#returning-a-view-versus-a-copy\n",
            "  df_test['lyrics'][index] = clean_data(df_test['lyrics'][index], stop_words)\n"
          ]
        },
        {
          "output_type": "stream",
          "name": "stdout",
          "text": [
            "After: \n"
          ]
        },
        {
          "output_type": "execute_result",
          "data": {
            "text/plain": [
              "      genre                                             lyrics  genre_id\n",
              "62295   Pop  [yeah, yeah, yeah, yeah, yeah, yeah, yeah, yea...         1\n",
              "71663   Pop  [look, curious, im, made, sugar, steel, kind, ...         1\n",
              "57884   Pop  [dont, apologize, cant, look, eye, kill, dont,...         1\n",
              "96167   Pop  [swimming, sweat, freshly, minted, breath, cra...         1\n",
              "59122   Pop  [thats, call, man, gon, na, warren, thats, fir...         1"
            ],
            "text/html": [
              "\n",
              "  <div id=\"df-1cef5f68-8a28-41cc-8ce6-331c6ec2e379\">\n",
              "    <div class=\"colab-df-container\">\n",
              "      <div>\n",
              "<style scoped>\n",
              "    .dataframe tbody tr th:only-of-type {\n",
              "        vertical-align: middle;\n",
              "    }\n",
              "\n",
              "    .dataframe tbody tr th {\n",
              "        vertical-align: top;\n",
              "    }\n",
              "\n",
              "    .dataframe thead th {\n",
              "        text-align: right;\n",
              "    }\n",
              "</style>\n",
              "<table border=\"1\" class=\"dataframe\">\n",
              "  <thead>\n",
              "    <tr style=\"text-align: right;\">\n",
              "      <th></th>\n",
              "      <th>genre</th>\n",
              "      <th>lyrics</th>\n",
              "      <th>genre_id</th>\n",
              "    </tr>\n",
              "  </thead>\n",
              "  <tbody>\n",
              "    <tr>\n",
              "      <th>62295</th>\n",
              "      <td>Pop</td>\n",
              "      <td>[yeah, yeah, yeah, yeah, yeah, yeah, yeah, yea...</td>\n",
              "      <td>1</td>\n",
              "    </tr>\n",
              "    <tr>\n",
              "      <th>71663</th>\n",
              "      <td>Pop</td>\n",
              "      <td>[look, curious, im, made, sugar, steel, kind, ...</td>\n",
              "      <td>1</td>\n",
              "    </tr>\n",
              "    <tr>\n",
              "      <th>57884</th>\n",
              "      <td>Pop</td>\n",
              "      <td>[dont, apologize, cant, look, eye, kill, dont,...</td>\n",
              "      <td>1</td>\n",
              "    </tr>\n",
              "    <tr>\n",
              "      <th>96167</th>\n",
              "      <td>Pop</td>\n",
              "      <td>[swimming, sweat, freshly, minted, breath, cra...</td>\n",
              "      <td>1</td>\n",
              "    </tr>\n",
              "    <tr>\n",
              "      <th>59122</th>\n",
              "      <td>Pop</td>\n",
              "      <td>[thats, call, man, gon, na, warren, thats, fir...</td>\n",
              "      <td>1</td>\n",
              "    </tr>\n",
              "  </tbody>\n",
              "</table>\n",
              "</div>\n",
              "      <button class=\"colab-df-convert\" onclick=\"convertToInteractive('df-1cef5f68-8a28-41cc-8ce6-331c6ec2e379')\"\n",
              "              title=\"Convert this dataframe to an interactive table.\"\n",
              "              style=\"display:none;\">\n",
              "        \n",
              "  <svg xmlns=\"http://www.w3.org/2000/svg\" height=\"24px\"viewBox=\"0 0 24 24\"\n",
              "       width=\"24px\">\n",
              "    <path d=\"M0 0h24v24H0V0z\" fill=\"none\"/>\n",
              "    <path d=\"M18.56 5.44l.94 2.06.94-2.06 2.06-.94-2.06-.94-.94-2.06-.94 2.06-2.06.94zm-11 1L8.5 8.5l.94-2.06 2.06-.94-2.06-.94L8.5 2.5l-.94 2.06-2.06.94zm10 10l.94 2.06.94-2.06 2.06-.94-2.06-.94-.94-2.06-.94 2.06-2.06.94z\"/><path d=\"M17.41 7.96l-1.37-1.37c-.4-.4-.92-.59-1.43-.59-.52 0-1.04.2-1.43.59L10.3 9.45l-7.72 7.72c-.78.78-.78 2.05 0 2.83L4 21.41c.39.39.9.59 1.41.59.51 0 1.02-.2 1.41-.59l7.78-7.78 2.81-2.81c.8-.78.8-2.07 0-2.86zM5.41 20L4 18.59l7.72-7.72 1.47 1.35L5.41 20z\"/>\n",
              "  </svg>\n",
              "      </button>\n",
              "      \n",
              "  <style>\n",
              "    .colab-df-container {\n",
              "      display:flex;\n",
              "      flex-wrap:wrap;\n",
              "      gap: 12px;\n",
              "    }\n",
              "\n",
              "    .colab-df-convert {\n",
              "      background-color: #E8F0FE;\n",
              "      border: none;\n",
              "      border-radius: 50%;\n",
              "      cursor: pointer;\n",
              "      display: none;\n",
              "      fill: #1967D2;\n",
              "      height: 32px;\n",
              "      padding: 0 0 0 0;\n",
              "      width: 32px;\n",
              "    }\n",
              "\n",
              "    .colab-df-convert:hover {\n",
              "      background-color: #E2EBFA;\n",
              "      box-shadow: 0px 1px 2px rgba(60, 64, 67, 0.3), 0px 1px 3px 1px rgba(60, 64, 67, 0.15);\n",
              "      fill: #174EA6;\n",
              "    }\n",
              "\n",
              "    [theme=dark] .colab-df-convert {\n",
              "      background-color: #3B4455;\n",
              "      fill: #D2E3FC;\n",
              "    }\n",
              "\n",
              "    [theme=dark] .colab-df-convert:hover {\n",
              "      background-color: #434B5C;\n",
              "      box-shadow: 0px 1px 3px 1px rgba(0, 0, 0, 0.15);\n",
              "      filter: drop-shadow(0px 1px 2px rgba(0, 0, 0, 0.3));\n",
              "      fill: #FFFFFF;\n",
              "    }\n",
              "  </style>\n",
              "\n",
              "      <script>\n",
              "        const buttonEl =\n",
              "          document.querySelector('#df-1cef5f68-8a28-41cc-8ce6-331c6ec2e379 button.colab-df-convert');\n",
              "        buttonEl.style.display =\n",
              "          google.colab.kernel.accessAllowed ? 'block' : 'none';\n",
              "\n",
              "        async function convertToInteractive(key) {\n",
              "          const element = document.querySelector('#df-1cef5f68-8a28-41cc-8ce6-331c6ec2e379');\n",
              "          const dataTable =\n",
              "            await google.colab.kernel.invokeFunction('convertToInteractive',\n",
              "                                                     [key], {});\n",
              "          if (!dataTable) return;\n",
              "\n",
              "          const docLinkHtml = 'Like what you see? Visit the ' +\n",
              "            '<a target=\"_blank\" href=https://colab.research.google.com/notebooks/data_table.ipynb>data table notebook</a>'\n",
              "            + ' to learn more about interactive tables.';\n",
              "          element.innerHTML = '';\n",
              "          dataTable['output_type'] = 'display_data';\n",
              "          await google.colab.output.renderOutput(dataTable, element);\n",
              "          const docLink = document.createElement('div');\n",
              "          docLink.innerHTML = docLinkHtml;\n",
              "          element.appendChild(docLink);\n",
              "        }\n",
              "      </script>\n",
              "    </div>\n",
              "  </div>\n",
              "  "
            ]
          },
          "metadata": {},
          "execution_count": 38
        }
      ]
    },
    {
      "cell_type": "code",
      "source": [
        "from itertools import islice\n",
        "\n",
        "K = 3000\n",
        "most_common = dict()\n",
        "\n",
        "for lyrics in df_train['lyrics']:\n",
        "  for word in lyrics:\n",
        "    if word in most_common:\n",
        "      most_common[word] += 1\n",
        "    else:\n",
        "      most_common[word] = 1\n",
        "\n",
        "most_common = {key: value for key, value in sorted(most_common.items(), key=lambda item: item[1], reverse = True)}\n",
        "vocabulary = list(islice(most_common, K))\n",
        "vocabulary.insert(0, \"<unk>\")\n",
        "vocabulary.insert(0, \"<pad>\")\n",
        "ix_to_word = (list(vocabulary))\n",
        "# Creating a dictionary to find the index of a given word\n",
        "word_to_ix = {word: ind for ind, word in enumerate(ix_to_word)}\n",
        "\n",
        "# More compact version of the same function\n",
        "def convert_token_to_indices(sentence, word_to_ix):\n",
        "  return [word_to_ix.get(token, word_to_ix[\"<unk>\"]) for token in sentence]\n",
        "\n",
        "# Show an example\n",
        "\n",
        "dataset = []\n",
        "for lyrics in df_train['lyrics']:\n",
        "  lyrics_encode = convert_token_to_indices(lyrics, word_to_ix)\n",
        "  #lyrics_encode = list(filter(lambda a: a != word_to_ix[\"<unk>\"], lyrics_encode))\n",
        "  dataset.append(lyrics_encode)\n",
        "dataset_test = []\n",
        "for lyrics in df_test['lyrics']:\n",
        "  lyrics_encode = convert_token_to_indices(lyrics, word_to_ix)\n",
        "  #lyrics_encode = list(filter(lambda a: a != word_to_ix[\"<unk>\"], lyrics_encode))\n",
        "  dataset_test.append(lyrics_encode)\n",
        "\n",
        "print(len(dataset))"
      ],
      "metadata": {
        "colab": {
          "base_uri": "https://localhost:8080/"
        },
        "id": "YLIgGDHY-z9A",
        "outputId": "f3927eeb-71e8-4c62-c612-5c756851dcf3"
      },
      "execution_count": 39,
      "outputs": [
        {
          "output_type": "stream",
          "name": "stdout",
          "text": [
            "10228\n"
          ]
        }
      ]
    },
    {
      "cell_type": "code",
      "source": [
        "print(dataset[0])\n",
        "print(len(dataset_test))\n",
        "longest_list = max(len(elem) for elem in dataset_test)\n",
        "print(longest_list)"
      ],
      "metadata": {
        "colab": {
          "base_uri": "https://localhost:8080/"
        },
        "id": "sCFZuYqJOP3e",
        "outputId": "bb775751-1383-4fa6-c7b6-50359568ae41"
      },
      "execution_count": 40,
      "outputs": [
        {
          "output_type": "stream",
          "name": "stdout",
          "text": [
            "[29, 29, 29, 29, 29, 29, 29, 29, 29, 29, 29, 29, 3, 7, 81, 82, 141, 1, 7, 552, 2, 1115, 153, 113, 596, 219, 5, 4, 7, 57, 6, 222, 65, 5, 4, 37, 2, 1293, 7, 1115, 1057, 62, 1635, 7, 1115, 1057, 62, 1635, 63, 1635, 53, 100, 158, 7, 275, 38, 42, 28, 73, 159, 5, 4, 7, 57, 6, 222, 65, 5, 4, 37, 2, 1293, 7, 1115, 1057, 62, 1635, 7, 1115, 1057, 62, 1635, 63, 80, 1635, 2, 1115, 1057, 62, 1635, 2, 1115, 1057, 7, 1115, 7, 1115, 7, 1115, 1057, 62, 1635, 2, 1115, 1057, 62, 1635, 7, 1115, 1057, 2, 1115, 1057, 2, 1115, 1057, 2, 1115, 1057, 2, 1115, 1057, 62, 1635, 7, 1115, 1057, 7, 1115, 552, 63, 7, 1115, 1115, 1057, 7, 1115]\n",
            "5842\n",
            "357\n"
          ]
        }
      ]
    },
    {
      "cell_type": "code",
      "source": [
        "\"\"\"\n",
        "But now we got another problem. As we know, the length review sometimes is different.\n",
        "So, first we need to define our maximum sequence length. Then, for each reviews that \n",
        "shorter than our predefined sequence length we will add padding token. Otherwise, \n",
        "we will trim the reviews.\n",
        "\"\"\"\n",
        "\n",
        "def pad_features(reviews, pad_id, seq_length):\n",
        "    # features = np.zeros((len(reviews), seq_length), dtype=int)\n",
        "    features = np.full((len(reviews), seq_length), pad_id, dtype=int)\n",
        "\n",
        "    for i, row in enumerate(reviews):\n",
        "        # if seq_length < len(row) then review will be trimmed\n",
        "        features[i, :len(row)] = np.array(row)[:seq_length]\n",
        "\n",
        "    return features\n",
        "\n",
        "seq_length = 400\n",
        "features = pad_features(dataset, pad_id=word_to_ix['<pad>'], seq_length=seq_length)\n",
        "features_test = pad_features(dataset_test, pad_id=word_to_ix['<pad>'], seq_length=seq_length)\n",
        "print(features[0])"
      ],
      "metadata": {
        "colab": {
          "base_uri": "https://localhost:8080/"
        },
        "id": "-qIA51Yb-5L-",
        "outputId": "5d75baaa-9e44-45b8-ff58-57793fe58903"
      },
      "execution_count": 41,
      "outputs": [
        {
          "output_type": "stream",
          "name": "stdout",
          "text": [
            "[  29   29   29   29   29   29   29   29   29   29   29   29    3    7\n",
            "   81   82  141    1    7  552    2 1115  153  113  596  219    5    4\n",
            "    7   57    6  222   65    5    4   37    2 1293    7 1115 1057   62\n",
            " 1635    7 1115 1057   62 1635   63 1635   53  100  158    7  275   38\n",
            "   42   28   73  159    5    4    7   57    6  222   65    5    4   37\n",
            "    2 1293    7 1115 1057   62 1635    7 1115 1057   62 1635   63   80\n",
            " 1635    2 1115 1057   62 1635    2 1115 1057    7 1115    7 1115    7\n",
            " 1115 1057   62 1635    2 1115 1057   62 1635    7 1115 1057    2 1115\n",
            " 1057    2 1115 1057    2 1115 1057    2 1115 1057   62 1635    7 1115\n",
            " 1057    7 1115  552   63    7 1115 1115 1057    7 1115    0    0    0\n",
            "    0    0    0    0    0    0    0    0    0    0    0    0    0    0\n",
            "    0    0    0    0    0    0    0    0    0    0    0    0    0    0\n",
            "    0    0    0    0    0    0    0    0    0    0    0    0    0    0\n",
            "    0    0    0    0    0    0    0    0    0    0    0    0    0    0\n",
            "    0    0    0    0    0    0    0    0    0    0    0    0    0    0\n",
            "    0    0    0    0    0    0    0    0    0    0    0    0    0    0\n",
            "    0    0    0    0    0    0    0    0    0    0    0    0    0    0\n",
            "    0    0    0    0    0    0    0    0    0    0    0    0    0    0\n",
            "    0    0    0    0    0    0    0    0    0    0    0    0    0    0\n",
            "    0    0    0    0    0    0    0    0    0    0    0    0    0    0\n",
            "    0    0    0    0    0    0    0    0    0    0    0    0    0    0\n",
            "    0    0    0    0    0    0    0    0    0    0    0    0    0    0\n",
            "    0    0    0    0    0    0    0    0    0    0    0    0    0    0\n",
            "    0    0    0    0    0    0    0    0    0    0    0    0    0    0\n",
            "    0    0    0    0    0    0    0    0    0    0    0    0    0    0\n",
            "    0    0    0    0    0    0    0    0    0    0    0    0    0    0\n",
            "    0    0    0    0    0    0    0    0    0    0    0    0    0    0\n",
            "    0    0    0    0    0    0    0    0    0    0    0    0    0    0\n",
            "    0    0    0    0    0    0    0    0]\n"
          ]
        }
      ]
    },
    {
      "cell_type": "markdown",
      "source": [
        "# Train SVM"
      ],
      "metadata": {
        "id": "m_p0iLzZ_DEX"
      }
    },
    {
      "cell_type": "code",
      "source": [
        "from sklearn.pipeline import make_pipeline\n",
        "from sklearn.preprocessing import StandardScaler\n",
        "from sklearn.svm import SVC\n",
        "from sklearn.pipeline import Pipeline\n",
        "clf = make_pipeline(StandardScaler(), SVC(gamma='auto'))\n",
        "X,y = features,df_train['genre_id'].values\n",
        "clf.fit(X, y)\n",
        "Pipeline(steps=[('standardscaler', StandardScaler()),\n",
        "                ('svc', SVC(gamma='auto'))])\n"
      ],
      "metadata": {
        "colab": {
          "base_uri": "https://localhost:8080/",
          "height": 125
        },
        "id": "B9ncKDfh_EOp",
        "outputId": "154aa04f-b05a-41db-c7c4-df28fa012964"
      },
      "execution_count": 42,
      "outputs": [
        {
          "output_type": "execute_result",
          "data": {
            "text/plain": [
              "Pipeline(steps=[('standardscaler', StandardScaler()),\n",
              "                ('svc', SVC(gamma='auto'))])"
            ],
            "text/html": [
              "<style>#sk-container-id-1 {color: black;background-color: white;}#sk-container-id-1 pre{padding: 0;}#sk-container-id-1 div.sk-toggleable {background-color: white;}#sk-container-id-1 label.sk-toggleable__label {cursor: pointer;display: block;width: 100%;margin-bottom: 0;padding: 0.3em;box-sizing: border-box;text-align: center;}#sk-container-id-1 label.sk-toggleable__label-arrow:before {content: \"▸\";float: left;margin-right: 0.25em;color: #696969;}#sk-container-id-1 label.sk-toggleable__label-arrow:hover:before {color: black;}#sk-container-id-1 div.sk-estimator:hover label.sk-toggleable__label-arrow:before {color: black;}#sk-container-id-1 div.sk-toggleable__content {max-height: 0;max-width: 0;overflow: hidden;text-align: left;background-color: #f0f8ff;}#sk-container-id-1 div.sk-toggleable__content pre {margin: 0.2em;color: black;border-radius: 0.25em;background-color: #f0f8ff;}#sk-container-id-1 input.sk-toggleable__control:checked~div.sk-toggleable__content {max-height: 200px;max-width: 100%;overflow: auto;}#sk-container-id-1 input.sk-toggleable__control:checked~label.sk-toggleable__label-arrow:before {content: \"▾\";}#sk-container-id-1 div.sk-estimator input.sk-toggleable__control:checked~label.sk-toggleable__label {background-color: #d4ebff;}#sk-container-id-1 div.sk-label input.sk-toggleable__control:checked~label.sk-toggleable__label {background-color: #d4ebff;}#sk-container-id-1 input.sk-hidden--visually {border: 0;clip: rect(1px 1px 1px 1px);clip: rect(1px, 1px, 1px, 1px);height: 1px;margin: -1px;overflow: hidden;padding: 0;position: absolute;width: 1px;}#sk-container-id-1 div.sk-estimator {font-family: monospace;background-color: #f0f8ff;border: 1px dotted black;border-radius: 0.25em;box-sizing: border-box;margin-bottom: 0.5em;}#sk-container-id-1 div.sk-estimator:hover {background-color: #d4ebff;}#sk-container-id-1 div.sk-parallel-item::after {content: \"\";width: 100%;border-bottom: 1px solid gray;flex-grow: 1;}#sk-container-id-1 div.sk-label:hover label.sk-toggleable__label {background-color: #d4ebff;}#sk-container-id-1 div.sk-serial::before {content: \"\";position: absolute;border-left: 1px solid gray;box-sizing: border-box;top: 0;bottom: 0;left: 50%;z-index: 0;}#sk-container-id-1 div.sk-serial {display: flex;flex-direction: column;align-items: center;background-color: white;padding-right: 0.2em;padding-left: 0.2em;position: relative;}#sk-container-id-1 div.sk-item {position: relative;z-index: 1;}#sk-container-id-1 div.sk-parallel {display: flex;align-items: stretch;justify-content: center;background-color: white;position: relative;}#sk-container-id-1 div.sk-item::before, #sk-container-id-1 div.sk-parallel-item::before {content: \"\";position: absolute;border-left: 1px solid gray;box-sizing: border-box;top: 0;bottom: 0;left: 50%;z-index: -1;}#sk-container-id-1 div.sk-parallel-item {display: flex;flex-direction: column;z-index: 1;position: relative;background-color: white;}#sk-container-id-1 div.sk-parallel-item:first-child::after {align-self: flex-end;width: 50%;}#sk-container-id-1 div.sk-parallel-item:last-child::after {align-self: flex-start;width: 50%;}#sk-container-id-1 div.sk-parallel-item:only-child::after {width: 0;}#sk-container-id-1 div.sk-dashed-wrapped {border: 1px dashed gray;margin: 0 0.4em 0.5em 0.4em;box-sizing: border-box;padding-bottom: 0.4em;background-color: white;}#sk-container-id-1 div.sk-label label {font-family: monospace;font-weight: bold;display: inline-block;line-height: 1.2em;}#sk-container-id-1 div.sk-label-container {text-align: center;}#sk-container-id-1 div.sk-container {/* jupyter's `normalize.less` sets `[hidden] { display: none; }` but bootstrap.min.css set `[hidden] { display: none !important; }` so we also need the `!important` here to be able to override the default hidden behavior on the sphinx rendered scikit-learn.org. See: https://github.com/scikit-learn/scikit-learn/issues/21755 */display: inline-block !important;position: relative;}#sk-container-id-1 div.sk-text-repr-fallback {display: none;}</style><div id=\"sk-container-id-1\" class=\"sk-top-container\"><div class=\"sk-text-repr-fallback\"><pre>Pipeline(steps=[(&#x27;standardscaler&#x27;, StandardScaler()),\n",
              "                (&#x27;svc&#x27;, SVC(gamma=&#x27;auto&#x27;))])</pre><b>In a Jupyter environment, please rerun this cell to show the HTML representation or trust the notebook. <br />On GitHub, the HTML representation is unable to render, please try loading this page with nbviewer.org.</b></div><div class=\"sk-container\" hidden><div class=\"sk-item sk-dashed-wrapped\"><div class=\"sk-label-container\"><div class=\"sk-label sk-toggleable\"><input class=\"sk-toggleable__control sk-hidden--visually\" id=\"sk-estimator-id-1\" type=\"checkbox\" ><label for=\"sk-estimator-id-1\" class=\"sk-toggleable__label sk-toggleable__label-arrow\">Pipeline</label><div class=\"sk-toggleable__content\"><pre>Pipeline(steps=[(&#x27;standardscaler&#x27;, StandardScaler()),\n",
              "                (&#x27;svc&#x27;, SVC(gamma=&#x27;auto&#x27;))])</pre></div></div></div><div class=\"sk-serial\"><div class=\"sk-item\"><div class=\"sk-estimator sk-toggleable\"><input class=\"sk-toggleable__control sk-hidden--visually\" id=\"sk-estimator-id-2\" type=\"checkbox\" ><label for=\"sk-estimator-id-2\" class=\"sk-toggleable__label sk-toggleable__label-arrow\">StandardScaler</label><div class=\"sk-toggleable__content\"><pre>StandardScaler()</pre></div></div></div><div class=\"sk-item\"><div class=\"sk-estimator sk-toggleable\"><input class=\"sk-toggleable__control sk-hidden--visually\" id=\"sk-estimator-id-3\" type=\"checkbox\" ><label for=\"sk-estimator-id-3\" class=\"sk-toggleable__label sk-toggleable__label-arrow\">SVC</label><div class=\"sk-toggleable__content\"><pre>SVC(gamma=&#x27;auto&#x27;)</pre></div></div></div></div></div></div></div>"
            ]
          },
          "metadata": {},
          "execution_count": 42
        }
      ]
    },
    {
      "cell_type": "markdown",
      "source": [
        "# labels"
      ],
      "metadata": {
        "id": "9vddOqWgFnGH"
      }
    },
    {
      "cell_type": "code",
      "source": [
        "label_mapping = {'Rock': 0, 'Pop': 1, 'Hip-Hop': 2, 'Country': 3}\n",
        "labels = [k for k,v in label_mapping.items()]\n",
        "labels"
      ],
      "metadata": {
        "colab": {
          "base_uri": "https://localhost:8080/"
        },
        "id": "nDJFbOX1Fo5_",
        "outputId": "4c03d944-77c6-4500-db19-735d692ddcbb"
      },
      "execution_count": 43,
      "outputs": [
        {
          "output_type": "execute_result",
          "data": {
            "text/plain": [
              "['Rock', 'Pop', 'Hip-Hop', 'Country']"
            ]
          },
          "metadata": {},
          "execution_count": 43
        }
      ]
    },
    {
      "cell_type": "markdown",
      "source": [
        "# Evaluation SVM"
      ],
      "metadata": {
        "id": "pUKesmhUiagB"
      }
    },
    {
      "cell_type": "code",
      "source": [
        "from sklearn import metrics\n",
        "predicted = clf.predict(features_test)\n",
        "y_test = df_test['genre_id'].values\n",
        "print(\"classification:\\n%s\\n\" % (\n",
        " metrics.classification_report(\n",
        " y_test,\n",
        " predicted, target_names=labels)))\n",
        "print(\"Confusion matrix:\\n%s\" % metrics.confusion_matrix(y_test, predicted))"
      ],
      "metadata": {
        "colab": {
          "base_uri": "https://localhost:8080/"
        },
        "id": "H9DAUzCz_HeD",
        "outputId": "8b007bff-bf5f-4e3c-9c70-a5a3a21b6a2e"
      },
      "execution_count": 44,
      "outputs": [
        {
          "output_type": "stream",
          "name": "stdout",
          "text": [
            "classification:\n",
            "              precision    recall  f1-score   support\n",
            "\n",
            "        Rock       0.70      0.24      0.36      3832\n",
            "         Pop       0.27      0.25      0.26      1170\n",
            "     Hip-Hop       0.19      0.59      0.29       318\n",
            "     Country       0.11      0.53      0.18       522\n",
            "\n",
            "    accuracy                           0.29      5842\n",
            "   macro avg       0.32      0.40      0.27      5842\n",
            "weighted avg       0.54      0.29      0.32      5842\n",
            "\n",
            "\n",
            "Confusion matrix:\n",
            "[[ 913  645  477 1797]\n",
            " [ 231  289  250  400]\n",
            " [  29   56  187   46]\n",
            " [ 128   65   53  276]]\n"
          ]
        }
      ]
    },
    {
      "cell_type": "markdown",
      "source": [
        "# Word2Vec Preprocessing"
      ],
      "metadata": {
        "id": "Ea4bzhgVBImP"
      }
    },
    {
      "cell_type": "code",
      "source": [
        "import gensim.downloader as api\n",
        "model_name = 'word2vec-google-news-300' \n",
        "word2vec_model = api.load(model_name)"
      ],
      "metadata": {
        "id": "lyriKFs3BPKz",
        "colab": {
          "base_uri": "https://localhost:8080/"
        },
        "outputId": "93b0d5e2-7ad7-4331-91ba-a9579835d734"
      },
      "execution_count": null,
      "outputs": [
        {
          "output_type": "stream",
          "name": "stdout",
          "text": [
            "[=================================================-] 99.9% 1660.7/1662.8MB downloaded\n"
          ]
        }
      ]
    },
    {
      "cell_type": "code",
      "source": [
        "%%time\n",
        "train_dataset = MyDataset_WithPreprocess(path_data=\"./train_unclean.csv\",\n",
        "                                         emb_model=word2vec_model,\n",
        "                                         emb_type=\"gensim\",\n",
        "                                         max_seq_len=200,\n",
        "                                         input_type=\"unclean\",\n",
        "                                         store_processed=True,\n",
        "                                         output_dir=\"./data/\")"
      ],
      "metadata": {
        "colab": {
          "base_uri": "https://localhost:8080/"
        },
        "id": "LrTJ6mFIBRXA",
        "outputId": "b0cbce46-7c31-496f-f21d-53c553557c6e"
      },
      "execution_count": null,
      "outputs": [
        {
          "output_type": "stream",
          "name": "stdout",
          "text": [
            "Store Preprocess mode is activated. \n",
            "Preprocessing is started for unclean settings\n",
            "Preprocess and tokenize the input...\n"
          ]
        },
        {
          "output_type": "stream",
          "name": "stderr",
          "text": [
            "/usr/local/lib/python3.8/dist-packages/spacy/pipeline/lemmatizer.py:211: UserWarning: [W108] The rule-based lemmatizer did not find POS annotation for one or more tokens. Check that your pipeline includes components that assign token.pos, typically 'tagger'+'attribute_ruler' or 'morphologizer'.\n",
            "  warnings.warn(Warnings.W108)\n"
          ]
        },
        {
          "output_type": "stream",
          "name": "stdout",
          "text": [
            "Convert tokens to ids...\n",
            "Preprocessing ended! \n",
            "Results are saving to: \n",
            "\t/content/data/23-03-06_095436_ids.csv.zip\n",
            "CPU times: user 1h 12min 49s, sys: 12.6 s, total: 1h 13min 2s\n",
            "Wall time: 1h 13min 8s\n"
          ]
        }
      ]
    },
    {
      "cell_type": "code",
      "source": [
        "%%time\n",
        "val_dataset = MyDataset_WithPreprocess(path_data=\"./val_unclean.csv\",\n",
        "                                       emb_model=word2vec_model,\n",
        "                                       emb_type=\"gensim\",\n",
        "                                       max_seq_len=200,\n",
        "                                       input_type=\"unclean\",\n",
        "                                       store_processed=True,\n",
        "                                       output_dir=\"./data/\")"
      ],
      "metadata": {
        "id": "2EAJ1EbrBU2H",
        "colab": {
          "base_uri": "https://localhost:8080/"
        },
        "outputId": "0991c806-5555-4e7e-be0a-d9de5f64b626"
      },
      "execution_count": null,
      "outputs": [
        {
          "output_type": "stream",
          "name": "stdout",
          "text": [
            "Store Preprocess mode is activated. \n",
            "Preprocessing is started for unclean settings\n",
            "Preprocess and tokenize the input...\n",
            "Convert tokens to ids...\n",
            "Preprocessing ended! \n",
            "Results are saving to: \n",
            "\t/content/data/23-03-06_102920_ids.csv.zip\n",
            "CPU times: user 34min 36s, sys: 5.73 s, total: 34min 42s\n",
            "Wall time: 34min 43s\n"
          ]
        }
      ]
    },
    {
      "cell_type": "code",
      "source": [
        "%%time\n",
        "test_dataset = MyDataset_WithPreprocess(path_data=\"./test_unclean.csv\",\n",
        "                                        emb_model=word2vec_model,\n",
        "                                        emb_type=\"gensim\",\n",
        "                                        max_seq_len=200,\n",
        "                                        input_type=\"unclean\",\n",
        "                                        store_processed=True,\n",
        "                                        output_dir=\"./data/\")"
      ],
      "metadata": {
        "id": "f93DLPz2BjFm",
        "colab": {
          "base_uri": "https://localhost:8080/"
        },
        "outputId": "fd08ee3a-16c5-459f-f19a-11c2ed8d2b72"
      },
      "execution_count": null,
      "outputs": [
        {
          "output_type": "stream",
          "name": "stdout",
          "text": [
            "Store Preprocess mode is activated. \n",
            "Preprocessing is started for unclean settings\n",
            "Preprocess and tokenize the input...\n",
            "Convert tokens to ids...\n",
            "Preprocessing ended! \n",
            "Results are saving to: \n",
            "\t/content/data/23-03-06_110350_ids.csv.zip\n",
            "CPU times: user 34min 22s, sys: 5.85 s, total: 34min 28s\n",
            "Wall time: 34min 30s\n"
          ]
        }
      ]
    },
    {
      "cell_type": "code",
      "source": [
        "del word2vec_model"
      ],
      "metadata": {
        "id": "aE_anrSDBslz"
      },
      "execution_count": null,
      "outputs": []
    },
    {
      "cell_type": "code",
      "source": [
        "from sklearn.dummy import DummyClassifier\n",
        "from sklearn.metrics import classification_report\n",
        "import numpy as np"
      ],
      "metadata": {
        "id": "7IY4lzu82BNf"
      },
      "execution_count": null,
      "outputs": []
    },
    {
      "cell_type": "markdown",
      "source": [
        "# Import Data"
      ],
      "metadata": {
        "id": "4XZDCTNv5eAE"
      }
    },
    {
      "cell_type": "code",
      "source": [
        "train_data= \"/content/data/23-03-06_122522_ids.csv.zip\"\n",
        "val_data= \"/content/data/23-03-06_123234_ids.csv.zip\"\n",
        "test_data= \"/content/data/23-03-06_123944_ids.csv.zip\""
      ],
      "metadata": {
        "id": "rWdyV3cl23S-"
      },
      "execution_count": 23,
      "outputs": []
    },
    {
      "cell_type": "code",
      "source": [
        "data_train = MyDataset(path_data=train_data,\n",
        "                                    max_seq_len=250)\n",
        "data_val = MyDataset(path_data=val_data,\n",
        "                          max_seq_len=250)\n",
        "data_test = MyDataset(path_data=test_data,\n",
        "                           max_seq_len=250)"
      ],
      "metadata": {
        "id": "9A1ODvvS2615"
      },
      "execution_count": 24,
      "outputs": []
    },
    {
      "cell_type": "markdown",
      "source": [
        "# LSTM model"
      ],
      "metadata": {
        "id": "mHPDTV9W32nQ"
      }
    },
    {
      "cell_type": "code",
      "source": [
        "import numpy as np\n",
        "import pandas as pd\n",
        "\n",
        "import torch\n",
        "import torch.nn as nn\n",
        "import torch.nn.functional as F\n",
        "import torch.optim as optim\n",
        "\n",
        "\n",
        "class MyLSTM(nn.Module):\n",
        "    def __init__(self,\n",
        "                 emb_vectors,\n",
        "                 lstm_layers,\n",
        "                 hidden_dim,\n",
        "                 target_size,\n",
        "                 dropout_prob,\n",
        "                 device,\n",
        "                 seq_len=250):\n",
        "        super().__init__()\n",
        "        # variable definitions\n",
        "        self.hidden_dim = hidden_dim\n",
        "        self.n_layers = lstm_layers\n",
        "        self.device = device\n",
        "        # add zero tensor at index 0 for PADDING tensor.\n",
        "        # with this operation we incremented all input indexes in the dataloader.\n",
        "        emb_vectors = np.insert(emb_vectors, 0, [np.zeros(300)], 0)\n",
        "        self.embedding_dim = emb_vectors.shape[1]\n",
        "        self.word_embeddings = nn.Embedding.from_pretrained(torch.Tensor(emb_vectors))\n",
        "\n",
        "        self.lstm = nn.LSTM(self.embedding_dim, hidden_dim,\n",
        "                            batch_first=True, num_layers=lstm_layers,\n",
        "                            dropout=dropout_prob)\n",
        "\n",
        "        self.dropout = nn.Dropout(0.1)\n",
        "        self.hidden2tag = nn.Linear(hidden_dim * seq_len, target_size)\n",
        "        self.sigmoid = nn.Sigmoid()\n",
        "        self.log_softmax = nn.LogSoftmax(dim=1)\n",
        "\n",
        "    def forward(self, sentence, hidden):\n",
        "        embeds = self.word_embeddings(sentence)\n",
        "        x, (hid, out) = self.lstm(embeds, hidden)\n",
        "        x = x.contiguous().view(x.shape[0], -1)\n",
        "        x = self.dropout(x)\n",
        "        x = self.hidden2tag(x)\n",
        "        #x = self.sigmoid(x)\n",
        "        x = self.log_softmax(x)\n",
        "        return x, (hid, out)\n",
        "\n",
        "    def init_hidden(self, batch_size):\n",
        "        weight = next(self.parameters()).data\n",
        "        hidden = (weight.new(self.n_layers, batch_size, self.hidden_dim).zero_().to(self.device),\n",
        "                  weight.new(self.n_layers, batch_size, self.hidden_dim).zero_().to(self.device))\n",
        "        return hidden\n",
        "\n",
        "    def switch_train(self):\n",
        "        self.train()"
      ],
      "metadata": {
        "id": "rGtbvpmW31uW"
      },
      "execution_count": 25,
      "outputs": []
    },
    {
      "cell_type": "markdown",
      "source": [
        "# BERT model\n"
      ],
      "metadata": {
        "id": "5YQgEKlz3GOv"
      }
    },
    {
      "cell_type": "code",
      "source": [
        "import torch\n",
        "import torch.nn as nn\n",
        "import numpy as np\n",
        "from transformers import AutoModel\n",
        "\n",
        "class MyLSTM_Bert(nn.Module):\n",
        "    def __init__(self,\n",
        "                 lstm_layers,\n",
        "                 hidden_dim,\n",
        "                 target_size,\n",
        "                 dropout_prob,\n",
        "                 device,\n",
        "                 seq_len=250,\n",
        "                 bert_pretrained=\"distilbert-base-uncased\",\n",
        "                 train_bert=False):\n",
        "        super().__init__()\n",
        "        self.hidden_dim = hidden_dim\n",
        "        self.n_layers = lstm_layers\n",
        "        self.device = device\n",
        "\n",
        "        self.bert_pretrained = bert_pretrained\n",
        "        self.train_bert = train_bert\n",
        "        self.bert_model = AutoModel.from_pretrained(self.bert_pretrained)\n",
        "        self.bert_emb_dim = 768\n",
        "\n",
        "        self.lstm = nn.LSTM(self.bert_emb_dim, hidden_dim,\n",
        "                            batch_first=True, num_layers=lstm_layers,\n",
        "                            dropout=dropout_prob)\n",
        "\n",
        "        self.dropout = nn.Dropout(0.1)\n",
        "        self.linear1 = nn.Linear(hidden_dim*seq_len, 1024)\n",
        "        self.hidden2tag = nn.Linear(hidden_dim*seq_len, target_size)\n",
        "        self.sigmoid = nn.Sigmoid()\n",
        "        self.log_softmax = nn.LogSoftmax(dim=1)\n",
        "\n",
        "    def forward(self, sentence, hidden):\n",
        "        with torch.no_grad():\n",
        "            embeds = self.bert_model(sentence)[0]\n",
        "        x, (hid, out) = self.lstm(embeds, hidden)\n",
        "        x = x.contiguous().view(x.shape[0], -1)\n",
        "        x = self.dropout(x)\n",
        "        # x = self.linear1(x)\n",
        "        x = self.hidden2tag(x)\n",
        "        # x = self.sigmoid(x)\n",
        "        x = self.log_softmax(x)\n",
        "        return x, (hid, out)\n",
        "\n",
        "    def init_hidden(self, batch_size):\n",
        "        weight = next(self.parameters()).data\n",
        "        hidden = (weight.new(self.n_layers, batch_size, self.hidden_dim).zero_().to(self.device),\n",
        "                  weight.new(self.n_layers, batch_size, self.hidden_dim).zero_().to(self.device))\n",
        "        return hidden\n",
        "\n",
        "    def switch_train(self):\n",
        "        self.train()\n",
        "        bert_model = next(self.children())\n",
        "        bert_model.train(self.train_bert)"
      ],
      "metadata": {
        "id": "fv0m9_BH3IKs"
      },
      "execution_count": null,
      "outputs": []
    },
    {
      "cell_type": "markdown",
      "source": [
        "# CVS logger"
      ],
      "metadata": {
        "id": "NCqt5sWc4Und"
      }
    },
    {
      "cell_type": "code",
      "source": [
        "import pandas as pd\n",
        "import os\n",
        "\n",
        "\n",
        "class CSVLogger:\n",
        "    def __init__(self, metrics, output_dir=\".\"):\n",
        "        self.counter = 1\n",
        "        self.output_dir = os.path.join(output_dir, \"log.csv\")\n",
        "        self.csv_file = pd.DataFrame(columns=[\"epoch\"].extend(metrics))\n",
        "\n",
        "    def _append(self, row={}):\n",
        "        row[\"epoch\"] = self.counter\n",
        "        if False not in [True if i in row.keys() else False for i in self.csv_file.columns]:\n",
        "            self.csv_file = self.csv_file.append(row, ignore_index=True)\n",
        "            self.counter += 1\n",
        "        else:\n",
        "            print(\"Row could not add!\\n\", row)\n",
        "\n",
        "    def _save(self):\n",
        "        self.csv_file.to_csv(self.output_dir)\n",
        "\n",
        "    def log(self, row):\n",
        "        self._append(row)\n",
        "        self._save()"
      ],
      "metadata": {
        "id": "cAyELWqA4W5-"
      },
      "execution_count": 26,
      "outputs": []
    },
    {
      "cell_type": "markdown",
      "source": [
        "# Model Trainer"
      ],
      "metadata": {
        "id": "no5cdHAz3rZw"
      }
    },
    {
      "cell_type": "code",
      "source": [
        "import os\n",
        "import sys\n",
        "import time\n",
        "import json\n",
        "import numpy as np\n",
        "from datetime import datetime\n",
        "import matplotlib.pyplot as plt\n",
        "\n",
        "import torch\n",
        "import torch.nn as nn\n",
        "from torch.utils.data import DataLoader\n",
        "\n",
        "import gensim.downloader as api\n",
        "from transformers import AutoTokenizer\n",
        "\n",
        "\n",
        "glove_settings = {\n",
        "    \"run_name\": \"GloveLSTM\",\n",
        "    \"output_dir\": \"./output/GloveRun\",\n",
        "    \"load_checkpoint\": \"\",\n",
        "    \"mode\": \"train\",  # train, eval\n",
        "\n",
        "    \"embedding_settings\": {\n",
        "        \"embedding_type\": \"gensim\",     # gensim, bert\n",
        "        #\"embedding_model\": [\"glove-wiki-gigaword-300\", \"word2vec-google-news-300\", \"distilbert-base-uncased\"]\n",
        "        \"embedding_model\": \"glove-wiki-gigaword-300\"\n",
        "    },\n",
        "\n",
        "    \"data_settings\": {\n",
        "        \"train_data\": \"/content/data/23-03-06_122522_ids.csv.zip\",\n",
        "        \"val_data\": \"/content/data/23-03-06_123234_ids.csv.zip\",\n",
        "        \"test_data\": \"/content/data/23-03-06_123944_ids.csv.zip\",\n",
        "        \"max_seq_len\": 200,\n",
        "        \"input_type\": \"index\",    # index, clean, unclean\n",
        "        \"store_processed\": False,\n",
        "        \"batch_size\": 96\n",
        "    },\n",
        "\n",
        "    \"model_settings\": {\n",
        "        \"lstm_layer\": 2,\n",
        "        \"hidden_dim\": 128,\n",
        "        \"target_size\": 4,\n",
        "        \"dropout_prob\": 0.2\n",
        "    },\n",
        "\n",
        "    \"train_settings\": {\n",
        "        \"epochs\": 25,\n",
        "        \"learning_rate\": 0.00001,\n",
        "        \"grad_clip\": 5\n",
        "    }\n",
        "}\n",
        "\n",
        "word2vec_settings = {\n",
        "    \"run_name\": \"Word2VecLSTM\",\n",
        "    \"output_dir\": \"./output/Word2VecRun\",\n",
        "    \"load_checkpoint\": \"\",\n",
        "    \"mode\": \"train\",  # train, eval\n",
        "\n",
        "    \"embedding_settings\": {\n",
        "        \"embedding_type\": \"gensim\",       # gensim, bert\n",
        "        ## embeding_model: [\"glove-wiki-gigaword-300\", \"word2vec-google-news-300\", \"distilbert-base-uncased\"]\n",
        "        \"embedding_model\": \"word2vec-google-news-300\"\n",
        "    },\n",
        "\n",
        "    \"data_settings\": {\n",
        "        \"train_data\": \"/content/data/23-03-06_095436_ids.csv.zip\",\n",
        "        \"val_data\": \"/content/data/23-03-06_102920_ids.csv.zip\",\n",
        "        \"test_data\": \"/content/data/23-03-06_110350_ids.csv.zip\",\n",
        "        \"max_seq_len\": 200,\n",
        "        \"input_type\": \"index\",        # index, clean, unclean \n",
        "        \"store_processed\": False,\n",
        "        \"batch_size\": 96\n",
        "    },\n",
        "\n",
        "    \"model_settings\": {\n",
        "        \"lstm_layer\": 2,\n",
        "        \"hidden_dim\": 128,\n",
        "        \"target_size\": 4,\n",
        "        \"dropout_prob\": 0.2\n",
        "    },\n",
        "\n",
        "    \"train_settings\": {\n",
        "        \"epochs\": 25,\n",
        "        \"learning_rate\": 0.00001,\n",
        "        \"grad_clip\": 5\n",
        "    }\n",
        "}\n",
        "\n",
        "\n",
        "bert_settings = {\n",
        "    \"run_name\": \"BertLSTM\",\n",
        "    \"output_dir\": \"./output/BertRun\",\n",
        "    # if load checkpoint is not empty (\"\"), trainer will try to import checkpoint!\n",
        "    \"load_checkpoint\": \"\",\n",
        "    \"mode\": \"train\",  # train, eval\n",
        "\n",
        "    \"embedding_settings\": {\n",
        "        ## embedding_type can be: [\"gensim\" | \"bert\"]\n",
        "        \"embedding_type\": \"bert\",\n",
        "        ## embeding_model can be: [\"glove-wiki-gigaword-300\" | \"word2vec-google-news-300\" | \"distilbert-base-uncased\"]\n",
        "        \"embedding_model\": \"distilbert-base-uncased\"\n",
        "    },\n",
        "\n",
        "    \"data_settings\": {\n",
        "      \"train_data\": \"/content/data/23-03-05_224042_ids.csv.zip\",\n",
        "        \"val_data\": \"/content/data/23-03-05_224243_ids.csv.zip\",\n",
        "        \"test_data\": \"/content/data/23-03-05_224440_ids.csv.zip\",\n",
        "        \"max_seq_len\": 200,\n",
        "        \"input_type\": \"index\",\n",
        "        \"store_processed\": False,\n",
        "        \"batch_size\": 96\n",
        "    },\n",
        "\n",
        "    \"model_settings\": {\n",
        "        \"lstm_layer\": 2,\n",
        "        \"hidden_dim\": 128,\n",
        "        \"target_size\": 4,\n",
        "        \"dropout_prob\": 0.2,\n",
        "        \"train_bert\": False\n",
        "    },\n",
        "\n",
        "    \"train_settings\": {\n",
        "        \"epochs\": 25,\n",
        "        \"learning_rate\": 0.00001,\n",
        "        \"grad_clip\": 5\n",
        "    }\n",
        "}\n",
        "\n",
        "\n",
        "class ModelTrainer:\n",
        "    def __init__(self, settings, emb_model=None):\n",
        "        # ################################ #\n",
        "        # IDENTIFY THE DEVICE FOR TRAINING #\n",
        "        # ################################ #\n",
        "        self.device = torch.device(\"cuda\") if torch.cuda.is_available() else torch.device(\"cpu\")\n",
        "\n",
        "        self.load = settings[\"load_checkpoint\"]\n",
        "        self.run_mode = settings[\"mode\"]\n",
        "        if self.load != \"\" and self.run_mode == \"train\":\n",
        "            checkpoint = self.get_chkp(settings[\"load_checkpoint\"])\n",
        "            self.output_dir = os.path.abspath(\"/\".join(self.load.split(\"/\")[:-2]))\n",
        "            self.settings = checkpoint[\"settings\"]\n",
        "        else:\n",
        "            self.settings = settings\n",
        "            self.output_dir = settings[\"output_dir\"]\n",
        "            self.output_dir = os.path.join(self.output_dir,\n",
        "                                           f\"{datetime.now().strftime('%y-%m-%d_%H%M%S')}_{settings['run_name']}\")\n",
        "            if not os.path.exists(self.output_dir):\n",
        "                os.makedirs(self.output_dir)\n",
        "\n",
        "        self.embedding_model_name = settings[\"embedding_settings\"][\"embedding_model\"]\n",
        "        if isinstance(emb_model, type(None)):\n",
        "            if self.embedding_model_name != \"distilbert-base-uncased\":\n",
        "                print(f\"embedding model ({self.embedding_model_name}) is loading...\")\n",
        "                self.emb_model = api.load(self.embedding_model_name)\n",
        "            elif self.embedding_model_name == \"distilbert-base-uncased\":\n",
        "                print(f\"embedding model ({self.embedding_model_name}) is loading...\")\n",
        "                self.emb_model = AutoTokenizer.from_pretrained(self.embedding_model_name)\n",
        "        else:\n",
        "            print(f\"embedding model is loaded from the argument.\")\n",
        "            #self.emb_model = api.load(self.embedding_model_name)\n",
        "            self.emb_model = emb_model\n",
        "\n",
        "        # ########### #\n",
        "        # IMPORT DATA #\n",
        "        # ########### #\n",
        "        print(\"Importing Data...\")\n",
        "        self.data_train = MyDataset_WithPreprocess(path_data=settings[\"data_settings\"][\"train_data\"],\n",
        "                                    emb_model=self.emb_model,\n",
        "                                    emb_type=settings[\"embedding_settings\"][\"embedding_type\"],\n",
        "                                    max_seq_len=settings[\"data_settings\"][\"max_seq_len\"],\n",
        "                                    input_type=settings[\"data_settings\"][\"input_type\"],\n",
        "                                    store_processed=settings[\"data_settings\"][\"store_processed\"],\n",
        "                                    output_dir=self.output_dir)\n",
        "        self.data_val = MyDataset_WithPreprocess(path_data=settings[\"data_settings\"][\"val_data\"],\n",
        "                                  emb_model=self.emb_model,\n",
        "                                  emb_type=settings[\"embedding_settings\"][\"embedding_type\"],\n",
        "                                  max_seq_len=settings[\"data_settings\"][\"max_seq_len\"],\n",
        "                                  input_type=settings[\"data_settings\"][\"input_type\"],\n",
        "                                  store_processed=settings[\"data_settings\"][\"store_processed\"],\n",
        "                                  output_dir=self.output_dir)\n",
        "        self.data_test = MyDataset_WithPreprocess(path_data=settings[\"data_settings\"][\"test_data\"],\n",
        "                                   emb_model=self.emb_model,\n",
        "                                   emb_type=settings[\"embedding_settings\"][\"embedding_type\"],\n",
        "                                   max_seq_len=settings[\"data_settings\"][\"max_seq_len\"],\n",
        "                                   input_type=settings[\"data_settings\"][\"input_type\"],\n",
        "                                   store_processed=settings[\"data_settings\"][\"store_processed\"],\n",
        "                                   output_dir=self.output_dir)\n",
        "\n",
        "        # ############ #\n",
        "        # Data Loaders #\n",
        "        # ############ #\n",
        "        print(\"Creating DataLoaders...\")\n",
        "        self.batch_size = settings[\"data_settings\"][\"batch_size\"]\n",
        "        self.dataloader_train = DataLoader(self.data_train,\n",
        "                                           batch_size=self.batch_size,\n",
        "                                           shuffle=True,\n",
        "                                           collate_fn=_batch_to_tensor,\n",
        "                                           drop_last=True)\n",
        "\n",
        "        self.dataloader_val = DataLoader(self.data_val,\n",
        "                                         batch_size=self.batch_size,\n",
        "                                         shuffle=True,\n",
        "                                         collate_fn=_batch_to_tensor,\n",
        "                                         drop_last=True)\n",
        "\n",
        "        self.dataloader_test = DataLoader(self.data_test,\n",
        "                                          batch_size=self.batch_size,\n",
        "                                          shuffle=True,\n",
        "                                          collate_fn=_batch_to_tensor,\n",
        "                                          drop_last=True)\n",
        "\n",
        "        # #################### #\n",
        "        # INITIALIZE THE MODEL #\n",
        "        # #################### #\n",
        "        print(\"Initializing Model...\")\n",
        "        if settings[\"embedding_settings\"][\"embedding_type\"]==\"bert\":\n",
        "            self.model = MyLSTM_Bert(lstm_layers=settings[\"model_settings\"][\"lstm_layer\"],\n",
        "                                     hidden_dim=settings[\"model_settings\"][\"hidden_dim\"],\n",
        "                                     target_size=settings[\"model_settings\"][\"target_size\"],\n",
        "                                     dropout_prob=settings[\"model_settings\"][\"dropout_prob\"],\n",
        "                                     device=self.device,\n",
        "                                     bert_pretrained=settings[\"embedding_settings\"][\"embedding_model\"],\n",
        "                                     seq_len=settings[\"data_settings\"][\"max_seq_len\"],\n",
        "                                     train_bert=settings[\"model_settings\"][\"train_bert\"])\n",
        "        else:\n",
        "            self.model = MyLSTM(emb_vectors=self.emb_model.vectors,\n",
        "                                lstm_layers=settings[\"model_settings\"][\"lstm_layer\"],\n",
        "                                hidden_dim=settings[\"model_settings\"][\"hidden_dim\"],\n",
        "                                target_size=settings[\"model_settings\"][\"target_size\"],\n",
        "                                dropout_prob=settings[\"model_settings\"][\"dropout_prob\"],\n",
        "                                device=self.device,\n",
        "                                seq_len=settings[\"data_settings\"][\"max_seq_len\"])\n",
        "        self.model = self.model.to(self.device)\n",
        "        self.loss_function = torch.nn.NLLLoss()\n",
        "        self.optimizer = torch.optim.Adam(self.model.parameters(),\n",
        "                                          lr=settings[\"train_settings\"][\"learning_rate\"])\n",
        "\n",
        "        # ################# #\n",
        "        # TRAINING SETTINGS #\n",
        "        # ################# #\n",
        "        if self.load != \"\" and self.run_mode == \"eval\":\n",
        "            self.eval(data_loader=self.dataloader_test)\n",
        "        elif self.load != \"\" and self.run_mode == \"train\":\n",
        "            # load the last training\n",
        "            print(f\"The Model is loading... {self.load}\")\n",
        "            self.model.load_state_dict(checkpoint[\"state_dict\"])\n",
        "            self.epochs = settings[\"train_settings\"][\"epochs\"]\n",
        "            self.batch_counter = 0\n",
        "            self.epoch_counter = checkpoint[\"epoch\"]\n",
        "            self.grad_clip = settings[\"train_settings\"][\"grad_clip\"]\n",
        "            self.valid_loss_min = checkpoint[\"valid_loss_min\"]\n",
        "            self.valid_acc_max = checkpoint[\"valid_acc_max\"]\n",
        "            self.metrics = checkpoint[\"metrics\"]\n",
        "            self.csv_logger = CSVLogger(self.metrics.keys())\n",
        "            for i in range(len(self.metrics[\"train_loss\"])):\n",
        "                self.csv_logger.log({\n",
        "                    \"train_loss\": self.metrics[\"train_loss\"][i],\n",
        "                    \"val_loss\": self.metrics[\"val_loss\"][i],\n",
        "                    \"train_acc\": self.metrics[\"train_acc\"][i],\n",
        "                    \"val_acc\": self.metrics[\"val_acc\"][i]\n",
        "                })\n",
        "        elif self.load == \"\":\n",
        "            self.epochs = settings[\"train_settings\"][\"epochs\"]\n",
        "            self.batch_counter = 0\n",
        "            self.epoch_counter = 0\n",
        "            self.grad_clip = settings[\"train_settings\"][\"grad_clip\"]\n",
        "            self.valid_loss_min = np.Inf\n",
        "            self.valid_acc_max = np.NINF\n",
        "            # Initialize metric container\n",
        "            self.metrics = {\n",
        "                \"train_loss\": [],\n",
        "                \"val_loss\": [],\n",
        "                \"train_acc\": [],\n",
        "                \"val_acc\": []\n",
        "            }\n",
        "            self.csv_logger = CSVLogger(self.metrics.keys())\n",
        "            with open(os.path.join(self.output_dir, \"settings.json\"), \"w\") as f:\n",
        "                json.dump(settings, f)\n",
        "        else:\n",
        "            sys.exit(\"load and mode Settings are not identified!\")\n",
        "\n",
        "    def train(self):\n",
        "        print_step_every = 100\n",
        "        self.model.switch_train()\n",
        "        while self.epoch_counter < self.epochs:\n",
        "            self.epoch_counter += 1\n",
        "            epoch = self.epoch_counter\n",
        "            # initialize intermediate metrics\n",
        "            self.batch_counter = 0\n",
        "            training_loss = 0\n",
        "            training_acc = 0\n",
        "            # time vars\n",
        "            ep_start_time = time.time()\n",
        "            temp_time = time.time()\n",
        "            # initialize hiddens\n",
        "            h = self.model.init_hidden(self.batch_size)\n",
        "            for inputs, labels in self.dataloader_train:\n",
        "                self.batch_counter += 1\n",
        "\n",
        "                h = tuple([e.data for e in h])\n",
        "                inputs, labels = inputs.to(self.device), labels.to(self.device)\n",
        "\n",
        "                self.optimizer.zero_grad()\n",
        "                output, h = self.model.forward(inputs, h)\n",
        "\n",
        "                preds = torch.max(output, dim=1)[1]\n",
        "                loss = self.loss_function(output, labels)\n",
        "\n",
        "                training_loss += loss.item()\n",
        "                training_acc += torch.sum(preds == labels).item() / labels.shape[0]\n",
        "\n",
        "                loss.backward()\n",
        "                nn.utils.clip_grad_norm_(self.model.parameters(), self.grad_clip)\n",
        "                self.optimizer.step()\n",
        "\n",
        "                if self.batch_counter % print_step_every == 0 or self.batch_counter == 1:\n",
        "                    print(\"Epoch: {}/{}...\".format(epoch + 1, self.epochs),\n",
        "                          \"Step: {}...\".format(self.batch_counter),\n",
        "                          \"Loss: {:.6f}...\".format(training_loss / self.batch_counter),\n",
        "                          \"Acc: {:.2f}\".format(training_acc / self.batch_counter),\n",
        "                          \"Time: {}... secs\".format(time.time() - temp_time))\n",
        "                    temp_time = time.time()\n",
        "\n",
        "                # ##### END OF EPOCH ##### #\n",
        "                if self.batch_counter == len(self.dataloader_train) - 1:\n",
        "                    val_loss, val_acc = self.eval(self.dataloader_val)\n",
        "\n",
        "                    row = {\n",
        "                        \"train_loss\": training_loss / len(self.dataloader_train),\n",
        "                        \"train_acc\": training_acc / len(self.dataloader_train),\n",
        "                        \"val_loss\": val_loss,\n",
        "                        \"val_acc\": val_acc\n",
        "                    }\n",
        "                    self._log_metrics(row)\n",
        "\n",
        "                    print(\"Epoch: {}/{}...\".format(epoch + 1, self.epochs),\n",
        "                          \"Step: {}...\".format(self.batch_counter),\n",
        "                          \"Loss: {:.6f}...\".format(row[\"train_loss\"]),\n",
        "                          \"Acc: {:.2f}\".format(row[\"train_acc\"]),\n",
        "                          \"Val Loss: {:.6f}\".format(row[\"val_loss\"]),\n",
        "                          \"Val Acc: {:.2f}\".format(row[\"val_acc\"]))\n",
        "                    # ## SAVE MODEL ## #\n",
        "                    # save best validation accuracy\n",
        "                    if self.valid_acc_max < row[\"val_acc\"]:\n",
        "                        self.valid_acc_max = row[\"val_acc\"]\n",
        "                        # self.save_model(fname=f\"minAcc_epoch\")\n",
        "                    # save best validation loss\n",
        "                    if self.valid_loss_min > row[\"val_loss\"]:\n",
        "                        self.valid_loss_min = row[\"val_loss\"]\n",
        "                        self.save_model(fname=f\"minLoss_epoch\")\n",
        "                    # save last epoch\n",
        "                    self.save_model(fname=\"last_epoch\")\n",
        "\n",
        "                    ep_end_time = time.time()\n",
        "                    print(\"Epoch: {} Ended in {} secs...\".format(epoch, ep_end_time - ep_start_time))\n",
        "\n",
        "\n",
        "    def _log_metrics(self, row):\n",
        "        self.metrics[\"train_loss\"].append(row[\"train_loss\"])\n",
        "        self.metrics[\"train_acc\"].append(row[\"train_acc\"])\n",
        "        self.metrics[\"val_loss\"].append(row[\"val_loss\"])\n",
        "        self.metrics[\"val_acc\"].append(row[\"val_acc\"])\n",
        "        self.csv_logger.log(row)\n",
        "\n",
        "    def eval(self, data_loader=None):\n",
        "        test_loss = 0\n",
        "        test_acc = 0\n",
        "        test_h = self.model.init_hidden(self.batch_size)\n",
        "\n",
        "        self.model.eval()\n",
        "        data_loader = self.dataloader_test if isinstance(data_loader, type(None)) else data_loader\n",
        "        for inp, lab in data_loader:\n",
        "            test_h = tuple([each.data for each in test_h])\n",
        "\n",
        "            inp, lab = inp.to(self.device), lab.to(self.device)\n",
        "            out, test_h = self.model(inp, test_h)\n",
        "\n",
        "            preds = torch.max(out, dim=1)[1]\n",
        "            loss = self.loss_function(out, lab)\n",
        "\n",
        "            test_loss += loss.item()\n",
        "            test_acc += torch.sum(preds == lab).item() / lab.shape[0]\n",
        "        self.model.switch_train()\n",
        "\n",
        "        loss = test_loss / len(data_loader)\n",
        "        acc = test_acc / len(data_loader)\n",
        "        return loss, acc\n",
        "\n",
        "    def predict(self, data_loader=None):\n",
        "        all_preds = []\n",
        "        all_y = []\n",
        "        test_h = self.model.init_hidden(self.batch_size)\n",
        "\n",
        "        self.model.eval()\n",
        "        data_loader = self.dataloader_test if isinstance(data_loader, type(None)) else data_loader\n",
        "        for inp, lab in data_loader:\n",
        "            test_h = tuple([each.data for each in test_h])\n",
        "\n",
        "            inp, lab = inp.to(self.device), lab.to(self.device)\n",
        "            out, test_h = self.model(inp, test_h)\n",
        "            preds = torch.max(out, dim=1)[1]\n",
        "            preds = preds.cpu()\n",
        "            lab = lab.cpu()\n",
        "            all_preds.extend(preds.detach().numpy())\n",
        "            all_y.extend(lab.detach().numpy())\n",
        "        self.model.switch_train()\n",
        "\n",
        "        return np.array(all_preds), np.array(all_y)\n",
        "\n",
        "    def save_model(self, fname=\"last_epoch\"):\n",
        "        state = {\n",
        "            \"settings\": self.settings,\n",
        "            \"epoch\": self.epoch_counter,\n",
        "            \"metrics\": self.metrics,\n",
        "            \"valid_acc_max\": self.valid_acc_max,\n",
        "            \"valid_loss_min\": self.valid_loss_min,\n",
        "            \"optimizer\": self.optimizer.state_dict(),\n",
        "            \"state_dict\": self.model.state_dict()\n",
        "        }\n",
        "        o_dir = os.path.join(self.output_dir, \"checkpoints\")\n",
        "        if not os.path.exists(o_dir):\n",
        "            os.makedirs(o_dir)\n",
        "        path_out = os.path.join(o_dir, f\"{fname}.chkp\")\n",
        "        torch.save(state, path_out)\n",
        "\n",
        "    def load_model(self, chkp_path):\n",
        "        checkpoint = self.get_chkp(chkp_path)\n",
        "        print(f\"The Model is loading... {self.load}\")\n",
        "        self.output_dir = os.path.abspath(\"/\".join(chkp_path.split(\"/\")[:-2]))\n",
        "        self.settings = checkpoint[\"settings\"]\n",
        "        self.model.load_state_dict(checkpoint[\"state_dict\"])\n",
        "        self.epoch_counter = checkpoint[\"epoch\"]\n",
        "        self.valid_loss_min = checkpoint[\"valid_loss_min\"]\n",
        "        self.valid_acc_max = checkpoint[\"valid_acc_max\"]\n",
        "        self.metrics = checkpoint[\"metrics\"]\n",
        "\n",
        "    def get_chkp(self, chkp_path):\n",
        "        return torch.load(chkp_path, map_location=self.device)\n",
        "\n",
        "    def save_plots(self, fname=\"learningCurve\"):\n",
        "        x = np.arange(len(self.metrics[\"train_loss\"])) + 1\n",
        "        fig, ax = plt.subplots()\n",
        "        ax.plot(x, self.metrics[\"train_loss\"], label=\"train\")\n",
        "        ax.plot(x, self.metrics[\"val_loss\"], label=\"val\")\n",
        "        ax.set_title('Learning Curve - Loss')\n",
        "        plt.legend(loc='lower right')\n",
        "        plt.savefig(os.path.join(self.output_dir, f\"{fname}_Loss.png\"))\n",
        "\n",
        "        fig, ax = plt.subplots()\n",
        "        ax.plot(x, self.metrics[\"train_acc\"], label=\"train\")\n",
        "        ax.plot(x, self.metrics[\"val_acc\"], label=\"val\")\n",
        "        ax.set_title('Learning Curve - Accuracy')\n",
        "        plt.legend(loc='lower right')\n",
        "        plt.savefig(os.path.join(self.output_dir, f\"{fname}_Acc.png\"))"
      ],
      "metadata": {
        "id": "2A1EoNvh3t0g"
      },
      "execution_count": 27,
      "outputs": []
    },
    {
      "cell_type": "markdown",
      "source": [
        "# labeling"
      ],
      "metadata": {
        "id": "HSdbrXN1fy2e"
      }
    },
    {
      "cell_type": "code",
      "source": [
        "from sklearn.metrics import classification_report\n",
        "import os\n",
        "label_mapping = {'Rock': 0, 'Pop': 1, 'Hip-Hop': 2, 'Country': 3}\n",
        "labels = [k for k,v in label_mapping.items()]\n",
        "labels"
      ],
      "metadata": {
        "id": "uUfyg_nvf0EN",
        "colab": {
          "base_uri": "https://localhost:8080/"
        },
        "outputId": "9864eff9-73f2-453a-ea7a-d57ccb729a79"
      },
      "execution_count": 28,
      "outputs": [
        {
          "output_type": "execute_result",
          "data": {
            "text/plain": [
              "['Rock', 'Pop', 'Hip-Hop', 'Country']"
            ]
          },
          "metadata": {},
          "execution_count": 28
        }
      ]
    },
    {
      "cell_type": "markdown",
      "source": [
        "# Train Word2Vec"
      ],
      "metadata": {
        "id": "eI4LgPg9f4B0"
      }
    },
    {
      "cell_type": "code",
      "source": [
        "word2vec_settings"
      ],
      "metadata": {
        "id": "fZCl118Gf6g_",
        "colab": {
          "base_uri": "https://localhost:8080/"
        },
        "outputId": "213b4b3e-59f6-422a-f129-7d6cc864e413"
      },
      "execution_count": null,
      "outputs": [
        {
          "output_type": "execute_result",
          "data": {
            "text/plain": [
              "{'run_name': 'Word2VecLSTM',\n",
              " 'output_dir': './output/Word2VecRun',\n",
              " 'load_checkpoint': '',\n",
              " 'mode': 'train',\n",
              " 'embedding_settings': {'embedding_type': 'gensim',\n",
              "  'embedding_model': 'word2vec-google-news-300'},\n",
              " 'data_settings': {'train_data': '/content/data/23-03-06_095436_ids.csv.zip',\n",
              "  'val_data': '/content/data/23-03-06_102920_ids.csv.zip',\n",
              "  'test_data': '/content/data/23-03-06_110350_ids.csv.zip',\n",
              "  'max_seq_len': 200,\n",
              "  'input_type': 'index',\n",
              "  'store_processed': False,\n",
              "  'batch_size': 96},\n",
              " 'model_settings': {'lstm_layer': 2,\n",
              "  'hidden_dim': 128,\n",
              "  'target_size': 4,\n",
              "  'dropout_prob': 0.2},\n",
              " 'train_settings': {'epochs': 25, 'learning_rate': 1e-05, 'grad_clip': 5}}"
            ]
          },
          "metadata": {},
          "execution_count": 8
        }
      ]
    },
    {
      "cell_type": "code",
      "source": [
        "model_trainer = ModelTrainer(word2vec_settings)"
      ],
      "metadata": {
        "id": "MlKTDW-AgBbQ",
        "colab": {
          "base_uri": "https://localhost:8080/"
        },
        "outputId": "c55d2770-9bcf-4929-e0ac-5abf7adb1988"
      },
      "execution_count": null,
      "outputs": [
        {
          "output_type": "stream",
          "name": "stdout",
          "text": [
            "embedding model (word2vec-google-news-300) is loading...\n",
            "Importing Data...\n",
            "Creating DataLoaders...\n",
            "Initializing Model...\n"
          ]
        }
      ]
    },
    {
      "cell_type": "code",
      "source": [
        "model_trainer.train()"
      ],
      "metadata": {
        "id": "ErTKmLV2gEWa",
        "colab": {
          "base_uri": "https://localhost:8080/"
        },
        "outputId": "1fe8eefb-b803-408f-82f9-d48e18440b97"
      },
      "execution_count": null,
      "outputs": [
        {
          "output_type": "stream",
          "name": "stderr",
          "text": [
            "<ipython-input-1-a297331d7a33>:60: UserWarning: Creating a tensor from a list of numpy.ndarrays is extremely slow. Please consider converting the list to a single numpy.ndarray with numpy.array() before converting to a tensor. (Triggered internally at ../torch/csrc/utils/tensor_new.cpp:230.)\n",
            "  return torch.LongTensor(_X), torch.LongTensor(target_id)\n"
          ]
        },
        {
          "output_type": "stream",
          "name": "stdout",
          "text": [
            "Epoch: 2/25... Step: 1... Loss: 1.385327... Acc: 0.28 Time: 1.043644905090332... secs\n",
            "Epoch: 2/25... Step: 100... Loss: 1.384053... Acc: 0.31 Time: 2.3303868770599365... secs\n",
            "Epoch: 2/25... Step: 105... Loss: 1.370799... Acc: 0.31 Val Loss: 1.398343 Val Acc: 0.18\n",
            "Epoch: 1 Ended in 68.32851314544678 secs...\n",
            "Epoch: 3/25... Step: 1... Loss: 1.384073... Acc: 0.27 Time: 0.031096220016479492... secs\n",
            "Epoch: 3/25... Step: 100... Loss: 1.372051... Acc: 0.35 Time: 2.287775993347168... secs\n",
            "Epoch: 3/25... Step: 105... Loss: 1.358374... Acc: 0.35 Val Loss: 1.370836 Val Acc: 0.13\n",
            "Epoch: 2 Ended in 39.309539556503296 secs...\n",
            "Epoch: 4/25... Step: 1... Loss: 1.354991... Acc: 0.42 Time: 0.024985074996948242... secs\n",
            "Epoch: 4/25... Step: 100... Loss: 1.335540... Acc: 0.40 Time: 2.2793776988983154... secs\n",
            "Epoch: 4/25... Step: 105... Loss: 1.322639... Acc: 0.39 Val Loss: 1.359103 Val Acc: 0.16\n",
            "Epoch: 3 Ended in 39.23773956298828 secs...\n",
            "Epoch: 5/25... Step: 1... Loss: 1.301543... Acc: 0.38 Time: 0.02348637580871582... secs\n",
            "Epoch: 5/25... Step: 100... Loss: 1.278861... Acc: 0.39 Time: 2.2529196739196777... secs\n",
            "Epoch: 5/25... Step: 105... Loss: 1.265333... Acc: 0.39 Val Loss: 1.333101 Val Acc: 0.20\n",
            "Epoch: 4 Ended in 39.232871770858765 secs...\n",
            "Epoch: 6/25... Step: 1... Loss: 1.273807... Acc: 0.41 Time: 0.02405524253845215... secs\n",
            "Epoch: 6/25... Step: 100... Loss: 1.249352... Acc: 0.40 Time: 2.3329238891601562... secs\n",
            "Epoch: 6/25... Step: 105... Loss: 1.238048... Acc: 0.40 Val Loss: 1.296811 Val Acc: 0.29\n",
            "Epoch: 5 Ended in 39.26268458366394 secs...\n",
            "Epoch: 7/25... Step: 1... Loss: 1.320044... Acc: 0.30 Time: 0.024566650390625... secs\n",
            "Epoch: 7/25... Step: 100... Loss: 1.240255... Acc: 0.41 Time: 2.216810941696167... secs\n",
            "Epoch: 7/25... Step: 105... Loss: 1.227751... Acc: 0.40 Val Loss: 1.301397 Val Acc: 0.24\n",
            "Epoch: 6 Ended in 21.05378007888794 secs...\n",
            "Epoch: 8/25... Step: 1... Loss: 1.329858... Acc: 0.32 Time: 0.02574300765991211... secs\n",
            "Epoch: 8/25... Step: 100... Loss: 1.229161... Acc: 0.41 Time: 2.2701380252838135... secs\n",
            "Epoch: 8/25... Step: 105... Loss: 1.218562... Acc: 0.41 Val Loss: 1.308821 Val Acc: 0.18\n",
            "Epoch: 7 Ended in 21.0274600982666 secs...\n",
            "Epoch: 9/25... Step: 1... Loss: 1.221402... Acc: 0.48 Time: 0.0240323543548584... secs\n",
            "Epoch: 9/25... Step: 100... Loss: 1.218671... Acc: 0.42 Time: 2.286076784133911... secs\n",
            "Epoch: 9/25... Step: 105... Loss: 1.208471... Acc: 0.42 Val Loss: 1.268776 Val Acc: 0.36\n",
            "Epoch: 8 Ended in 39.37104535102844 secs...\n",
            "Epoch: 10/25... Step: 1... Loss: 1.258685... Acc: 0.45 Time: 0.026093244552612305... secs\n",
            "Epoch: 10/25... Step: 100... Loss: 1.206399... Acc: 0.43 Time: 2.2740414142608643... secs\n",
            "Epoch: 10/25... Step: 105... Loss: 1.195942... Acc: 0.43 Val Loss: 1.305669 Val Acc: 0.23\n",
            "Epoch: 9 Ended in 21.058666706085205 secs...\n",
            "Epoch: 11/25... Step: 1... Loss: 1.196714... Acc: 0.46 Time: 0.02405571937561035... secs\n",
            "Epoch: 11/25... Step: 100... Loss: 1.197378... Acc: 0.44 Time: 2.3024449348449707... secs\n",
            "Epoch: 11/25... Step: 105... Loss: 1.185594... Acc: 0.43 Val Loss: 1.284086 Val Acc: 0.31\n",
            "Epoch: 10 Ended in 21.149568557739258 secs...\n",
            "Epoch: 12/25... Step: 1... Loss: 1.205529... Acc: 0.44 Time: 0.024381160736083984... secs\n",
            "Epoch: 12/25... Step: 100... Loss: 1.184388... Acc: 0.45 Time: 2.2832934856414795... secs\n",
            "Epoch: 12/25... Step: 105... Loss: 1.173081... Acc: 0.44 Val Loss: 1.285183 Val Acc: 0.30\n",
            "Epoch: 11 Ended in 21.176886320114136 secs...\n",
            "Epoch: 13/25... Step: 1... Loss: 1.112642... Acc: 0.53 Time: 0.026144742965698242... secs\n",
            "Epoch: 13/25... Step: 100... Loss: 1.171620... Acc: 0.46 Time: 2.245260000228882... secs\n",
            "Epoch: 13/25... Step: 105... Loss: 1.160463... Acc: 0.46 Val Loss: 1.269828 Val Acc: 0.28\n",
            "Epoch: 12 Ended in 21.026588439941406 secs...\n",
            "Epoch: 14/25... Step: 1... Loss: 1.125074... Acc: 0.49 Time: 0.025086641311645508... secs\n",
            "Epoch: 14/25... Step: 100... Loss: 1.162865... Acc: 0.47 Time: 2.2588019371032715... secs\n",
            "Epoch: 14/25... Step: 105... Loss: 1.148715... Acc: 0.47 Val Loss: 1.237496 Val Acc: 0.40\n",
            "Epoch: 13 Ended in 39.29618573188782 secs...\n",
            "Epoch: 15/25... Step: 1... Loss: 1.134417... Acc: 0.48 Time: 0.026677846908569336... secs\n",
            "Epoch: 15/25... Step: 100... Loss: 1.146058... Acc: 0.48 Time: 2.2832694053649902... secs\n",
            "Epoch: 15/25... Step: 105... Loss: 1.133380... Acc: 0.48 Val Loss: 1.251830 Val Acc: 0.31\n",
            "Epoch: 14 Ended in 21.10920739173889 secs...\n",
            "Epoch: 16/25... Step: 1... Loss: 1.099839... Acc: 0.44 Time: 0.027002811431884766... secs\n",
            "Epoch: 16/25... Step: 100... Loss: 1.132536... Acc: 0.49 Time: 2.2694995403289795... secs\n",
            "Epoch: 16/25... Step: 105... Loss: 1.120699... Acc: 0.49 Val Loss: 1.245418 Val Acc: 0.35\n",
            "Epoch: 15 Ended in 21.070008277893066 secs...\n",
            "Epoch: 17/25... Step: 1... Loss: 1.154139... Acc: 0.52 Time: 0.024478673934936523... secs\n",
            "Epoch: 17/25... Step: 100... Loss: 1.116084... Acc: 0.51 Time: 2.289206027984619... secs\n",
            "Epoch: 17/25... Step: 105... Loss: 1.106828... Acc: 0.50 Val Loss: 1.249207 Val Acc: 0.31\n",
            "Epoch: 16 Ended in 21.152074098587036 secs...\n",
            "Epoch: 18/25... Step: 1... Loss: 1.075943... Acc: 0.49 Time: 0.025051355361938477... secs\n",
            "Epoch: 18/25... Step: 100... Loss: 1.107931... Acc: 0.51 Time: 2.27404522895813... secs\n",
            "Epoch: 18/25... Step: 105... Loss: 1.094772... Acc: 0.50 Val Loss: 1.209858 Val Acc: 0.38\n",
            "Epoch: 17 Ended in 39.313236951828 secs...\n",
            "Epoch: 19/25... Step: 1... Loss: 1.222737... Acc: 0.50 Time: 0.02510857582092285... secs\n",
            "Epoch: 19/25... Step: 100... Loss: 1.095864... Acc: 0.51 Time: 2.24504017829895... secs\n",
            "Epoch: 19/25... Step: 105... Loss: 1.083221... Acc: 0.51 Val Loss: 1.235567 Val Acc: 0.37\n",
            "Epoch: 18 Ended in 21.08847451210022 secs...\n",
            "Epoch: 20/25... Step: 1... Loss: 0.981111... Acc: 0.55 Time: 0.02464747428894043... secs\n",
            "Epoch: 20/25... Step: 100... Loss: 1.087111... Acc: 0.52 Time: 2.3323824405670166... secs\n",
            "Epoch: 20/25... Step: 105... Loss: 1.076105... Acc: 0.52 Val Loss: 1.226904 Val Acc: 0.36\n",
            "Epoch: 19 Ended in 21.13244128227234 secs...\n",
            "Epoch: 21/25... Step: 1... Loss: 1.028013... Acc: 0.56 Time: 0.02408742904663086... secs\n",
            "Epoch: 21/25... Step: 100... Loss: 1.077206... Acc: 0.53 Time: 2.2757534980773926... secs\n",
            "Epoch: 21/25... Step: 105... Loss: 1.067298... Acc: 0.52 Val Loss: 1.208939 Val Acc: 0.39\n",
            "Epoch: 20 Ended in 39.3809289932251 secs...\n",
            "Epoch: 22/25... Step: 1... Loss: 1.129818... Acc: 0.53 Time: 0.025107145309448242... secs\n",
            "Epoch: 22/25... Step: 100... Loss: 1.069563... Acc: 0.53 Time: 2.2796733379364014... secs\n",
            "Epoch: 22/25... Step: 105... Loss: 1.060287... Acc: 0.53 Val Loss: 1.204877 Val Acc: 0.41\n",
            "Epoch: 21 Ended in 39.311896562576294 secs...\n",
            "Epoch: 23/25... Step: 1... Loss: 0.973579... Acc: 0.61 Time: 0.025515079498291016... secs\n",
            "Epoch: 23/25... Step: 100... Loss: 1.062553... Acc: 0.53 Time: 2.3427681922912598... secs\n",
            "Epoch: 23/25... Step: 105... Loss: 1.053615... Acc: 0.53 Val Loss: 1.200293 Val Acc: 0.41\n",
            "Epoch: 22 Ended in 39.35024809837341 secs...\n",
            "Epoch: 24/25... Step: 1... Loss: 1.024869... Acc: 0.57 Time: 0.026102542877197266... secs\n",
            "Epoch: 24/25... Step: 100... Loss: 1.059818... Acc: 0.54 Time: 2.240414619445801... secs\n",
            "Epoch: 24/25... Step: 105... Loss: 1.048570... Acc: 0.53 Val Loss: 1.195868 Val Acc: 0.41\n",
            "Epoch: 23 Ended in 39.29536271095276 secs...\n",
            "Epoch: 25/25... Step: 1... Loss: 1.177346... Acc: 0.43 Time: 0.024396657943725586... secs\n",
            "Epoch: 25/25... Step: 100... Loss: 1.053690... Acc: 0.54 Time: 2.307908773422241... secs\n",
            "Epoch: 25/25... Step: 105... Loss: 1.044467... Acc: 0.53 Val Loss: 1.209506 Val Acc: 0.40\n",
            "Epoch: 24 Ended in 21.187259197235107 secs...\n",
            "Epoch: 26/25... Step: 1... Loss: 0.955934... Acc: 0.64 Time: 0.02740335464477539... secs\n",
            "Epoch: 26/25... Step: 100... Loss: 1.049765... Acc: 0.54 Time: 2.3173041343688965... secs\n",
            "Epoch: 26/25... Step: 105... Loss: 1.038969... Acc: 0.53 Val Loss: 1.211033 Val Acc: 0.41\n",
            "Epoch: 25 Ended in 21.20763063430786 secs...\n"
          ]
        }
      ]
    },
    {
      "cell_type": "code",
      "source": [
        "model_trainer.save_plots()"
      ],
      "metadata": {
        "id": "G8sSjrjbgGtx",
        "colab": {
          "base_uri": "https://localhost:8080/",
          "height": 545
        },
        "outputId": "0fa8fe40-f838-40fe-a31d-a5d3a0f31886"
      },
      "execution_count": null,
      "outputs": [
        {
          "output_type": "display_data",
          "data": {
            "text/plain": [
              "<Figure size 432x288 with 1 Axes>"
            ],
            "image/png": "[encoded data removed]"
          },
          "metadata": {
            "needs_background": "light"
          }
        },
        {
          "output_type": "display_data",
          "data": {
            "text/plain": [
              "<Figure size 432x288 with 1 Axes>"
            ],
            "image/png": "[encoded data removed]"
          },
          "metadata": {
            "needs_background": "light"
          }
        }
      ]
    },
    {
      "cell_type": "markdown",
      "source": [
        "# Word2Vec Evaluation"
      ],
      "metadata": {
        "id": "DOuv9N7BgNtM"
      }
    },
    {
      "cell_type": "code",
      "source": [
        "path_chkp = \"/content/output/Word2VecRun/23-03-06_112514_Word2VecLSTM/checkpoints/minLoss_epoch.chkp\"\n",
        "word2vec_settings[\"load_checkpoint\"] = path_chkp"
      ],
      "metadata": {
        "id": "EMuGIyLDgQ1w"
      },
      "execution_count": null,
      "outputs": []
    },
    {
      "cell_type": "code",
      "source": [
        "model_trainer = ModelTrainer(word2vec_settings)"
      ],
      "metadata": {
        "id": "8goVFlEIgdLA",
        "colab": {
          "base_uri": "https://localhost:8080/"
        },
        "outputId": "08926cc4-2ba3-4a91-dea1-3eeec92d3086"
      },
      "execution_count": null,
      "outputs": [
        {
          "output_type": "stream",
          "name": "stdout",
          "text": [
            "embedding model (word2vec-google-news-300) is loading...\n"
          ]
        }
      ]
    },
    {
      "cell_type": "code",
      "source": [
        "model_trainer.epoch_counter"
      ],
      "metadata": {
        "id": "opDH1s7RggAQ",
        "colab": {
          "base_uri": "https://localhost:8080/"
        },
        "outputId": "228099e6-9493-4322-82d6-79b4ab1bf342"
      },
      "execution_count": null,
      "outputs": [
        {
          "output_type": "execute_result",
          "data": {
            "text/plain": [
              "25"
            ]
          },
          "metadata": {},
          "execution_count": 13
        }
      ]
    },
    {
      "cell_type": "code",
      "source": [
        "%%time\n",
        "y_pred, y_true = model_trainer.predict()"
      ],
      "metadata": {
        "id": "woVe-w03gqSY",
        "colab": {
          "base_uri": "https://localhost:8080/"
        },
        "outputId": "1e599787-6788-487e-a555-b1deee3d6125"
      },
      "execution_count": null,
      "outputs": [
        {
          "output_type": "stream",
          "name": "stdout",
          "text": [
            "CPU times: user 677 ms, sys: 0 ns, total: 677 ms\n",
            "Wall time: 676 ms\n"
          ]
        }
      ]
    },
    {
      "cell_type": "code",
      "source": [
        "from sklearn import metrics\n",
        "print(classification_report(y_true, y_pred, target_names=labels))\n",
        "print(\"Confusion matrix:\\n%s\" % metrics.confusion_matrix(y_true, y_pred))"
      ],
      "metadata": {
        "id": "Mk8RwyGQgvI3",
        "colab": {
          "base_uri": "https://localhost:8080/"
        },
        "outputId": "4ca099c3-326a-43ca-83f8-416309f171fd"
      },
      "execution_count": null,
      "outputs": [
        {
          "output_type": "stream",
          "name": "stdout",
          "text": [
            "              precision    recall  f1-score   support\n",
            "\n",
            "     Country       0.21      0.69      0.32       518\n",
            "     Hip-Hop       0.27      0.72      0.39       314\n",
            "        Rock       0.79      0.36      0.50      3777\n",
            "         Pop       0.32      0.42      0.36      1151\n",
            "\n",
            "    accuracy                           0.42      5760\n",
            "   macro avg       0.40      0.55      0.39      5760\n",
            "weighted avg       0.62      0.42      0.45      5760\n",
            "\n",
            "Confusion matrix:\n",
            "[[ 356   23   67   72]\n",
            " [  17  225   30   42]\n",
            " [1053  446 1366  912]\n",
            " [ 250  149  267  485]]\n"
          ]
        }
      ]
    },
    {
      "cell_type": "markdown",
      "source": [
        "# Train Glove"
      ],
      "metadata": {
        "id": "4qLU95kWRTcI"
      }
    },
    {
      "cell_type": "code",
      "source": [
        "glove_settings"
      ],
      "metadata": {
        "colab": {
          "base_uri": "https://localhost:8080/"
        },
        "id": "BrOSWBzpRVYf",
        "outputId": "4be76392-cc1a-4356-a6d2-1296a196b1e6"
      },
      "execution_count": 29,
      "outputs": [
        {
          "output_type": "execute_result",
          "data": {
            "text/plain": [
              "{'run_name': 'GloveLSTM',\n",
              " 'output_dir': './output/GloveRun',\n",
              " 'load_checkpoint': '',\n",
              " 'mode': 'train',\n",
              " 'embedding_settings': {'embedding_type': 'gensim',\n",
              "  'embedding_model': 'glove-wiki-gigaword-300'},\n",
              " 'data_settings': {'train_data': '/content/data/23-03-06_122522_ids.csv.zip',\n",
              "  'val_data': '/content/data/23-03-06_123234_ids.csv.zip',\n",
              "  'test_data': '/content/data/23-03-06_123944_ids.csv.zip',\n",
              "  'max_seq_len': 200,\n",
              "  'input_type': 'index',\n",
              "  'store_processed': False,\n",
              "  'batch_size': 96},\n",
              " 'model_settings': {'lstm_layer': 2,\n",
              "  'hidden_dim': 128,\n",
              "  'target_size': 4,\n",
              "  'dropout_prob': 0.2},\n",
              " 'train_settings': {'epochs': 25, 'learning_rate': 1e-05, 'grad_clip': 5}}"
            ]
          },
          "metadata": {},
          "execution_count": 29
        }
      ]
    },
    {
      "cell_type": "code",
      "source": [
        "model_trainer = ModelTrainer(glove_settings)"
      ],
      "metadata": {
        "colab": {
          "base_uri": "https://localhost:8080/"
        },
        "id": "WXU0mkubRY9P",
        "outputId": "f7215a1f-d38b-4d24-f8c9-49d286e08bcd"
      },
      "execution_count": 30,
      "outputs": [
        {
          "output_type": "stream",
          "name": "stdout",
          "text": [
            "embedding model (glove-wiki-gigaword-300) is loading...\n",
            "Importing Data...\n",
            "Creating DataLoaders...\n",
            "Initializing Model...\n"
          ]
        }
      ]
    },
    {
      "cell_type": "code",
      "source": [
        "model_trainer.train()"
      ],
      "metadata": {
        "id": "po1lZ1QIRbN5",
        "colab": {
          "base_uri": "https://localhost:8080/"
        },
        "outputId": "f8ea4ce0-c807-435a-f389-d08583fa1027"
      },
      "execution_count": 31,
      "outputs": [
        {
          "output_type": "stream",
          "name": "stderr",
          "text": [
            "<ipython-input-18-a297331d7a33>:60: UserWarning: Creating a tensor from a list of numpy.ndarrays is extremely slow. Please consider converting the list to a single numpy.ndarray with numpy.array() before converting to a tensor. (Triggered internally at ../torch/csrc/utils/tensor_new.cpp:230.)\n",
            "  return torch.LongTensor(_X), torch.LongTensor(target_id)\n"
          ]
        },
        {
          "output_type": "stream",
          "name": "stdout",
          "text": [
            "Epoch: 2/25... Step: 1... Loss: 1.387145... Acc: 0.29 Time: 1.2017080783843994... secs\n",
            "Epoch: 2/25... Step: 100... Loss: 1.378753... Acc: 0.32 Time: 2.150207042694092... secs\n",
            "Epoch: 2/25... Step: 105... Loss: 1.365274... Acc: 0.32 Val Loss: 1.378522 Val Acc: 0.16\n",
            "Epoch: 1 Ended in 8.594897270202637 secs...\n",
            "Epoch: 3/25... Step: 1... Loss: 1.367590... Acc: 0.43 Time: 0.032494306564331055... secs\n",
            "Epoch: 3/25... Step: 100... Loss: 1.352035... Acc: 0.40 Time: 2.08144211769104... secs\n",
            "Epoch: 3/25... Step: 105... Loss: 1.338059... Acc: 0.39 Val Loss: 1.343248 Val Acc: 0.41\n",
            "Epoch: 2 Ended in 7.617329359054565 secs...\n",
            "Epoch: 4/25... Step: 1... Loss: 1.314349... Acc: 0.48 Time: 0.03484535217285156... secs\n",
            "Epoch: 4/25... Step: 100... Loss: 1.302463... Acc: 0.40 Time: 2.1010472774505615... secs\n",
            "Epoch: 4/25... Step: 105... Loss: 1.289249... Acc: 0.40 Val Loss: 1.314423 Val Acc: 0.31\n",
            "Epoch: 3 Ended in 7.374791622161865 secs...\n",
            "Epoch: 5/25... Step: 1... Loss: 1.304966... Acc: 0.36 Time: 0.032867431640625... secs\n",
            "Epoch: 5/25... Step: 100... Loss: 1.267826... Acc: 0.41 Time: 2.06504225730896... secs\n",
            "Epoch: 5/25... Step: 105... Loss: 1.255603... Acc: 0.40 Val Loss: 1.310543 Val Acc: 0.28\n",
            "Epoch: 4 Ended in 7.231136322021484 secs...\n",
            "Epoch: 6/25... Step: 1... Loss: 1.279139... Acc: 0.38 Time: 0.03475761413574219... secs\n",
            "Epoch: 6/25... Step: 100... Loss: 1.252643... Acc: 0.41 Time: 2.113781213760376... secs\n",
            "Epoch: 6/25... Step: 105... Loss: 1.241407... Acc: 0.40 Val Loss: 1.327564 Val Acc: 0.26\n",
            "Epoch: 5 Ended in 5.005763053894043 secs...\n",
            "Epoch: 7/25... Step: 1... Loss: 1.223730... Acc: 0.46 Time: 0.03510284423828125... secs\n",
            "Epoch: 7/25... Step: 100... Loss: 1.238468... Acc: 0.42 Time: 2.082611560821533... secs\n",
            "Epoch: 7/25... Step: 105... Loss: 1.225973... Acc: 0.42 Val Loss: 1.289793 Val Acc: 0.39\n",
            "Epoch: 6 Ended in 7.7075254917144775 secs...\n",
            "Epoch: 8/25... Step: 1... Loss: 1.209286... Acc: 0.47 Time: 0.03513312339782715... secs\n",
            "Epoch: 8/25... Step: 100... Loss: 1.220537... Acc: 0.44 Time: 2.1855151653289795... secs\n",
            "Epoch: 8/25... Step: 105... Loss: 1.208290... Acc: 0.43 Val Loss: 1.305139 Val Acc: 0.26\n",
            "Epoch: 7 Ended in 5.257389545440674 secs...\n",
            "Epoch: 9/25... Step: 1... Loss: 1.217134... Acc: 0.41 Time: 0.033228397369384766... secs\n",
            "Epoch: 9/25... Step: 100... Loss: 1.202795... Acc: 0.46 Time: 2.0750179290771484... secs\n",
            "Epoch: 9/25... Step: 105... Loss: 1.189931... Acc: 0.45 Val Loss: 1.290673 Val Acc: 0.29\n",
            "Epoch: 8 Ended in 4.956468820571899 secs...\n",
            "Epoch: 10/25... Step: 1... Loss: 1.195684... Acc: 0.42 Time: 0.03413271903991699... secs\n",
            "Epoch: 10/25... Step: 100... Loss: 1.179180... Acc: 0.47 Time: 2.093616485595703... secs\n",
            "Epoch: 10/25... Step: 105... Loss: 1.168873... Acc: 0.47 Val Loss: 1.256530 Val Acc: 0.36\n",
            "Epoch: 9 Ended in 7.7027788162231445 secs...\n",
            "Epoch: 11/25... Step: 1... Loss: 1.207165... Acc: 0.46 Time: 0.0368504524230957... secs\n",
            "Epoch: 11/25... Step: 100... Loss: 1.157905... Acc: 0.49 Time: 2.0677406787872314... secs\n",
            "Epoch: 11/25... Step: 105... Loss: 1.145683... Acc: 0.48 Val Loss: 1.246330 Val Acc: 0.37\n",
            "Epoch: 10 Ended in 7.197991847991943 secs...\n",
            "Epoch: 12/25... Step: 1... Loss: 1.229279... Acc: 0.47 Time: 0.034975290298461914... secs\n",
            "Epoch: 12/25... Step: 100... Loss: 1.133867... Acc: 0.50 Time: 2.095115900039673... secs\n",
            "Epoch: 12/25... Step: 105... Loss: 1.122590... Acc: 0.50 Val Loss: 1.257657 Val Acc: 0.36\n",
            "Epoch: 11 Ended in 5.453174114227295 secs...\n",
            "Epoch: 13/25... Step: 1... Loss: 1.090472... Acc: 0.47 Time: 0.034716129302978516... secs\n",
            "Epoch: 13/25... Step: 100... Loss: 1.112969... Acc: 0.51 Time: 2.088550567626953... secs\n",
            "Epoch: 13/25... Step: 105... Loss: 1.102844... Acc: 0.51 Val Loss: 1.249251 Val Acc: 0.36\n",
            "Epoch: 12 Ended in 4.990817308425903 secs...\n",
            "Epoch: 14/25... Step: 1... Loss: 1.155737... Acc: 0.47 Time: 0.031846046447753906... secs\n",
            "Epoch: 14/25... Step: 100... Loss: 1.093236... Acc: 0.53 Time: 2.1005196571350098... secs\n",
            "Epoch: 14/25... Step: 105... Loss: 1.086010... Acc: 0.52 Val Loss: 1.215898 Val Acc: 0.41\n",
            "Epoch: 13 Ended in 7.443117141723633 secs...\n",
            "Epoch: 15/25... Step: 1... Loss: 0.983266... Acc: 0.65 Time: 0.03743100166320801... secs\n",
            "Epoch: 15/25... Step: 100... Loss: 1.082967... Acc: 0.53 Time: 2.1598660945892334... secs\n",
            "Epoch: 15/25... Step: 105... Loss: 1.075102... Acc: 0.52 Val Loss: 1.239973 Val Acc: 0.39\n",
            "Epoch: 14 Ended in 5.099266767501831 secs...\n",
            "Epoch: 16/25... Step: 1... Loss: 1.089772... Acc: 0.49 Time: 0.0376279354095459... secs\n",
            "Epoch: 16/25... Step: 100... Loss: 1.071805... Acc: 0.53 Time: 2.1440680027008057... secs\n",
            "Epoch: 16/25... Step: 105... Loss: 1.062621... Acc: 0.53 Val Loss: 1.255312 Val Acc: 0.39\n",
            "Epoch: 15 Ended in 5.042990207672119 secs...\n",
            "Epoch: 17/25... Step: 1... Loss: 1.118987... Acc: 0.54 Time: 0.03627133369445801... secs\n",
            "Epoch: 17/25... Step: 100... Loss: 1.064476... Acc: 0.54 Time: 2.1821014881134033... secs\n",
            "Epoch: 17/25... Step: 105... Loss: 1.055313... Acc: 0.53 Val Loss: 1.198298 Val Acc: 0.44\n",
            "Epoch: 16 Ended in 7.761683464050293 secs...\n",
            "Epoch: 18/25... Step: 1... Loss: 1.105665... Acc: 0.51 Time: 0.03466796875... secs\n",
            "Epoch: 18/25... Step: 100... Loss: 1.057055... Acc: 0.54 Time: 2.158693313598633... secs\n",
            "Epoch: 18/25... Step: 105... Loss: 1.046189... Acc: 0.54 Val Loss: 1.204184 Val Acc: 0.43\n",
            "Epoch: 17 Ended in 5.042336702346802 secs...\n",
            "Epoch: 19/25... Step: 1... Loss: 1.117152... Acc: 0.46 Time: 0.03881359100341797... secs\n",
            "Epoch: 19/25... Step: 100... Loss: 1.050523... Acc: 0.55 Time: 2.144045829772949... secs\n",
            "Epoch: 19/25... Step: 105... Loss: 1.042166... Acc: 0.54 Val Loss: 1.212630 Val Acc: 0.43\n",
            "Epoch: 18 Ended in 5.4866943359375 secs...\n",
            "Epoch: 20/25... Step: 1... Loss: 0.951359... Acc: 0.59 Time: 0.034442901611328125... secs\n",
            "Epoch: 20/25... Step: 100... Loss: 1.046461... Acc: 0.55 Time: 2.095167875289917... secs\n",
            "Epoch: 20/25... Step: 105... Loss: 1.036678... Acc: 0.54 Val Loss: 1.189724 Val Acc: 0.44\n",
            "Epoch: 19 Ended in 7.200586795806885 secs...\n",
            "Epoch: 21/25... Step: 1... Loss: 1.192473... Acc: 0.53 Time: 0.0329287052154541... secs\n",
            "Epoch: 21/25... Step: 100... Loss: 1.041818... Acc: 0.55 Time: 2.0954790115356445... secs\n",
            "Epoch: 21/25... Step: 105... Loss: 1.030223... Acc: 0.55 Val Loss: 1.182370 Val Acc: 0.45\n",
            "Epoch: 20 Ended in 7.77800726890564 secs...\n",
            "Epoch: 22/25... Step: 1... Loss: 1.070232... Acc: 0.56 Time: 0.03386712074279785... secs\n",
            "Epoch: 22/25... Step: 100... Loss: 1.035537... Acc: 0.56 Time: 2.078890085220337... secs\n",
            "Epoch: 22/25... Step: 105... Loss: 1.026063... Acc: 0.55 Val Loss: 1.246028 Val Acc: 0.40\n",
            "Epoch: 21 Ended in 4.972404479980469 secs...\n",
            "Epoch: 23/25... Step: 1... Loss: 1.129537... Acc: 0.54 Time: 0.03293013572692871... secs\n",
            "Epoch: 23/25... Step: 100... Loss: 1.030185... Acc: 0.56 Time: 2.1191461086273193... secs\n",
            "Epoch: 23/25... Step: 105... Loss: 1.021243... Acc: 0.55 Val Loss: 1.200590 Val Acc: 0.43\n",
            "Epoch: 22 Ended in 5.052571058273315 secs...\n",
            "Epoch: 24/25... Step: 1... Loss: 1.023799... Acc: 0.56 Time: 0.03385138511657715... secs\n",
            "Epoch: 24/25... Step: 100... Loss: 1.026085... Acc: 0.56 Time: 2.1771583557128906... secs\n",
            "Epoch: 24/25... Step: 105... Loss: 1.016033... Acc: 0.55 Val Loss: 1.222521 Val Acc: 0.44\n",
            "Epoch: 23 Ended in 5.121201992034912 secs...\n",
            "Epoch: 25/25... Step: 1... Loss: 1.073802... Acc: 0.58 Time: 0.034752845764160156... secs\n",
            "Epoch: 25/25... Step: 100... Loss: 1.022403... Acc: 0.56 Time: 2.105806350708008... secs\n",
            "Epoch: 25/25... Step: 105... Loss: 1.013139... Acc: 0.56 Val Loss: 1.189657 Val Acc: 0.45\n",
            "Epoch: 24 Ended in 5.080528974533081 secs...\n",
            "Epoch: 26/25... Step: 1... Loss: 1.002305... Acc: 0.54 Time: 0.035483598709106445... secs\n",
            "Epoch: 26/25... Step: 100... Loss: 1.016665... Acc: 0.57 Time: 2.1485276222229004... secs\n",
            "Epoch: 26/25... Step: 105... Loss: 1.008703... Acc: 0.56 Val Loss: 1.218798 Val Acc: 0.43\n",
            "Epoch: 25 Ended in 5.571382284164429 secs...\n"
          ]
        }
      ]
    },
    {
      "cell_type": "code",
      "source": [
        "model_trainer.save_plots()"
      ],
      "metadata": {
        "id": "AltZn0nCRbum",
        "colab": {
          "base_uri": "https://localhost:8080/",
          "height": 545
        },
        "outputId": "24d9c1ca-8b6e-4fdc-b928-2c7b28595f6f"
      },
      "execution_count": 32,
      "outputs": [
        {
          "output_type": "display_data",
          "data": {
            "text/plain": [
              "<Figure size 432x288 with 1 Axes>"
            ],
            "image/png": "[encoded data removed]"
          },
          "metadata": {
            "needs_background": "light"
          }
        },
        {
          "output_type": "display_data",
          "data": {
            "text/plain": [
              "<Figure size 432x288 with 1 Axes>"
            ],
            "image/png": "[encoded data removed]"
          },
          "metadata": {
            "needs_background": "light"
          }
        }
      ]
    },
    {
      "cell_type": "markdown",
      "source": [
        "# Glove Evaluation"
      ],
      "metadata": {
        "id": "2tCcfrK3e0fk"
      }
    },
    {
      "cell_type": "code",
      "source": [
        "path_chkp = \"/content/output/GloveRun/23-03-06_125623_GloveLSTM/checkpoints/minLoss_epoch.chkp\"\n",
        "glove_settings[\"load_checkpoint\"] = path_chkp"
      ],
      "metadata": {
        "id": "d1bJlRxRe7rO"
      },
      "execution_count": 33,
      "outputs": []
    },
    {
      "cell_type": "code",
      "source": [
        "model_trainer = ModelTrainer(glove_settings)"
      ],
      "metadata": {
        "id": "mIJuan8Pe__2",
        "colab": {
          "base_uri": "https://localhost:8080/"
        },
        "outputId": "1b4badc4-fce4-495f-dd5c-88f54ae9265e"
      },
      "execution_count": null,
      "outputs": [
        {
          "output_type": "stream",
          "name": "stdout",
          "text": [
            "embedding model (glove-wiki-gigaword-300) is loading...\n",
            "Importing Data...\n",
            "Creating DataLoaders...\n",
            "Initializing Model...\n",
            "The Model is loading... ./output/GloveRun/23-03-01_200106_GloveLSTM/checkpoints/minLoss_epoch.chkp\n"
          ]
        }
      ]
    },
    {
      "cell_type": "code",
      "source": [
        "model_trainer.epoch_counter"
      ],
      "metadata": {
        "id": "3D2Ge5gcfOoN",
        "colab": {
          "base_uri": "https://localhost:8080/"
        },
        "outputId": "7209a98e-47d6-4dac-9e7a-275ee0b5d8fd"
      },
      "execution_count": 34,
      "outputs": [
        {
          "output_type": "execute_result",
          "data": {
            "text/plain": [
              "25"
            ]
          },
          "metadata": {},
          "execution_count": 34
        }
      ]
    },
    {
      "cell_type": "code",
      "source": [
        "%%time\n",
        "y_pred, y_true = model_trainer.predict()"
      ],
      "metadata": {
        "id": "RITcWgOyfQm1",
        "colab": {
          "base_uri": "https://localhost:8080/"
        },
        "outputId": "0a34be03-26b9-468b-c1b2-553c3efa5527"
      },
      "execution_count": 35,
      "outputs": [
        {
          "output_type": "stream",
          "name": "stdout",
          "text": [
            "CPU times: user 803 ms, sys: 2.95 ms, total: 806 ms\n",
            "Wall time: 854 ms\n"
          ]
        }
      ]
    },
    {
      "cell_type": "code",
      "source": [
        "from sklearn import metrics\n",
        "print(classification_report(y_true, y_pred, target_names=labels))\n",
        "print(\"Confusion matrix:\\n%s\" % metrics.confusion_matrix(y_true, y_pred))"
      ],
      "metadata": {
        "id": "Kx6JXvIYfSXD",
        "colab": {
          "base_uri": "https://localhost:8080/"
        },
        "outputId": "94688cee-eff6-4e06-84a8-c0b4262d1e6a"
      },
      "execution_count": 37,
      "outputs": [
        {
          "output_type": "stream",
          "name": "stdout",
          "text": [
            "              precision    recall  f1-score   support\n",
            "\n",
            "        Rock       0.80      0.37      0.51      3778\n",
            "         Pop       0.33      0.43      0.37      1154\n",
            "     Hip-Hop       0.26      0.72      0.38       314\n",
            "     Country       0.23      0.73      0.35       514\n",
            "\n",
            "    accuracy                           0.43      5760\n",
            "   macro avg       0.41      0.56      0.40      5760\n",
            "weighted avg       0.63      0.43      0.46      5760\n",
            "\n",
            "Confusion matrix:\n",
            "[[1400  895  459 1024]\n",
            " [ 269  492  158  235]\n",
            " [  27   46  226   15]\n",
            " [  48   69   20  377]]\n"
          ]
        }
      ]
    },
    {
      "cell_type": "markdown",
      "source": [
        "# Train BERT"
      ],
      "metadata": {
        "id": "KV3Wzt5S3TLL"
      }
    },
    {
      "cell_type": "code",
      "source": [
        "bert_settings"
      ],
      "metadata": {
        "colab": {
          "base_uri": "https://localhost:8080/"
        },
        "id": "K7nRNeyzYHYp",
        "outputId": "9b5fdfd8-9c8f-462b-f88b-26d95be7fc00"
      },
      "execution_count": null,
      "outputs": [
        {
          "output_type": "execute_result",
          "data": {
            "text/plain": [
              "{'run_name': 'BertLSTM',\n",
              " 'output_dir': './output/BertRun',\n",
              " 'load_checkpoint': '',\n",
              " 'mode': 'train',\n",
              " 'embedding_settings': {'embedding_type': 'bert',\n",
              "  'embedding_model': 'distilbert-base-uncased'},\n",
              " 'data_settings': {'train_data': '/content/data/23-03-05_224042_ids.csv.zip',\n",
              "  'val_data': '/content/data/23-03-05_224243_ids.csv.zip',\n",
              "  'test_data': '/content/data/23-03-05_224440_ids.csv.zip',\n",
              "  'max_seq_len': 200,\n",
              "  'input_type': 'index',\n",
              "  'store_processed': False,\n",
              "  'batch_size': 96},\n",
              " 'model_settings': {'lstm_layer': 2,\n",
              "  'hidden_dim': 128,\n",
              "  'target_size': 4,\n",
              "  'dropout_prob': 0.2,\n",
              "  'train_bert': False},\n",
              " 'train_settings': {'epochs': 25, 'learning_rate': 1e-05, 'grad_clip': 5}}"
            ]
          },
          "metadata": {},
          "execution_count": 68
        }
      ]
    },
    {
      "cell_type": "code",
      "source": [
        "model_trainer = ModelTrainer(bert_settings)"
      ],
      "metadata": {
        "colab": {
          "base_uri": "https://localhost:8080/"
        },
        "id": "M_gEJVEc3Ssl",
        "outputId": "d6fa4345-f859-4cd6-c09b-c73cd866c311"
      },
      "execution_count": null,
      "outputs": [
        {
          "output_type": "stream",
          "name": "stdout",
          "text": [
            "embedding model (distilbert-base-uncased) is loading...\n",
            "Importing Data...\n",
            "Creating DataLoaders...\n",
            "Initializing Model...\n"
          ]
        },
        {
          "output_type": "stream",
          "name": "stderr",
          "text": [
            "Some weights of the model checkpoint at distilbert-base-uncased were not used when initializing DistilBertModel: ['vocab_layer_norm.bias', 'vocab_projector.weight', 'vocab_projector.bias', 'vocab_transform.weight', 'vocab_transform.bias', 'vocab_layer_norm.weight']\n",
            "- This IS expected if you are initializing DistilBertModel from the checkpoint of a model trained on another task or with another architecture (e.g. initializing a BertForSequenceClassification model from a BertForPreTraining model).\n",
            "- This IS NOT expected if you are initializing DistilBertModel from the checkpoint of a model that you expect to be exactly identical (initializing a BertForSequenceClassification model from a BertForSequenceClassification model).\n"
          ]
        }
      ]
    },
    {
      "cell_type": "code",
      "source": [
        "model_trainer.train()"
      ],
      "metadata": {
        "id": "1SLVb4Ev4rtF",
        "colab": {
          "base_uri": "https://localhost:8080/"
        },
        "outputId": "fab07273-9fdd-4fe7-9c64-fc69a18620c3"
      },
      "execution_count": null,
      "outputs": [
        {
          "output_type": "stream",
          "name": "stdout",
          "text": [
            "Epoch: 2/25... Step: 1... Loss: 1.388597... Acc: 0.26 Time: 0.5655488967895508... secs\n",
            "Epoch: 2/25... Step: 100... Loss: 1.308118... Acc: 0.37 Time: 51.89508605003357... secs\n",
            "Epoch: 2/25... Step: 105... Loss: 1.294575... Acc: 0.37 Val Loss: 1.324129 Val Acc: 0.15\n",
            "Epoch: 1 Ended in 89.26571726799011 secs...\n",
            "Epoch: 3/25... Step: 1... Loss: 1.294038... Acc: 0.36 Time: 0.5387754440307617... secs\n",
            "Epoch: 3/25... Step: 100... Loss: 1.270537... Acc: 0.39 Time: 54.01444911956787... secs\n",
            "Epoch: 3/25... Step: 105... Loss: 1.257516... Acc: 0.38 Val Loss: 1.306864 Val Acc: 0.29\n",
            "Epoch: 2 Ended in 92.12868356704712 secs...\n",
            "Epoch: 4/25... Step: 1... Loss: 1.252293... Acc: 0.36 Time: 0.5536525249481201... secs\n",
            "Epoch: 4/25... Step: 100... Loss: 1.269425... Acc: 0.39 Time: 55.2448890209198... secs\n",
            "Epoch: 4/25... Step: 105... Loss: 1.257031... Acc: 0.39 Val Loss: 1.336359 Val Acc: 0.22\n",
            "Epoch: 3 Ended in 92.79113006591797 secs...\n",
            "Epoch: 5/25... Step: 1... Loss: 1.239241... Acc: 0.36 Time: 0.5893397331237793... secs\n",
            "Epoch: 5/25... Step: 100... Loss: 1.267205... Acc: 0.39 Time: 56.48054265975952... secs\n",
            "Epoch: 5/25... Step: 105... Loss: 1.256060... Acc: 0.39 Val Loss: 1.302686 Val Acc: 0.32\n",
            "Epoch: 4 Ended in 95.75569987297058 secs...\n",
            "Epoch: 6/25... Step: 1... Loss: 1.267060... Acc: 0.34 Time: 0.5769796371459961... secs\n",
            "Epoch: 6/25... Step: 100... Loss: 1.268012... Acc: 0.39 Time: 56.47728896141052... secs\n",
            "Epoch: 6/25... Step: 105... Loss: 1.255343... Acc: 0.39 Val Loss: 1.318525 Val Acc: 0.30\n",
            "Epoch: 5 Ended in 94.3541648387909 secs...\n",
            "Epoch: 7/25... Step: 1... Loss: 1.181674... Acc: 0.44 Time: 0.5839278697967529... secs\n",
            "Epoch: 7/25... Step: 100... Loss: 1.268104... Acc: 0.39 Time: 56.469298362731934... secs\n",
            "Epoch: 7/25... Step: 105... Loss: 1.255885... Acc: 0.39 Val Loss: 1.332884 Val Acc: 0.23\n",
            "Epoch: 6 Ended in 94.28460550308228 secs...\n",
            "Epoch: 8/25... Step: 1... Loss: 1.253394... Acc: 0.43 Time: 0.586118221282959... secs\n",
            "Epoch: 8/25... Step: 100... Loss: 1.265424... Acc: 0.39 Time: 56.48443055152893... secs\n",
            "Epoch: 8/25... Step: 105... Loss: 1.255133... Acc: 0.39 Val Loss: 1.313214 Val Acc: 0.35\n",
            "Epoch: 7 Ended in 94.46648669242859 secs...\n",
            "Epoch: 9/25... Step: 1... Loss: 1.279994... Acc: 0.39 Time: 0.5944375991821289... secs\n",
            "Epoch: 9/25... Step: 100... Loss: 1.267167... Acc: 0.39 Time: 56.47704863548279... secs\n",
            "Epoch: 9/25... Step: 105... Loss: 1.255145... Acc: 0.39 Val Loss: 1.308813 Val Acc: 0.29\n",
            "Epoch: 8 Ended in 94.39056777954102 secs...\n",
            "Epoch: 10/25... Step: 1... Loss: 1.271786... Acc: 0.35 Time: 0.5877745151519775... secs\n",
            "Epoch: 10/25... Step: 100... Loss: 1.267450... Acc: 0.39 Time: 56.50687789916992... secs\n",
            "Epoch: 10/25... Step: 105... Loss: 1.255355... Acc: 0.39 Val Loss: 1.317878 Val Acc: 0.26\n",
            "Epoch: 9 Ended in 94.63301515579224 secs...\n",
            "Epoch: 11/25... Step: 1... Loss: 1.268805... Acc: 0.35 Time: 0.5897209644317627... secs\n",
            "Epoch: 11/25... Step: 100... Loss: 1.268290... Acc: 0.39 Time: 56.43818664550781... secs\n",
            "Epoch: 11/25... Step: 105... Loss: 1.255200... Acc: 0.39 Val Loss: 1.318567 Val Acc: 0.28\n",
            "Epoch: 10 Ended in 94.34577918052673 secs...\n",
            "Epoch: 12/25... Step: 1... Loss: 1.207464... Acc: 0.43 Time: 0.5893528461456299... secs\n",
            "Epoch: 12/25... Step: 100... Loss: 1.266295... Acc: 0.39 Time: 56.45545506477356... secs\n",
            "Epoch: 12/25... Step: 105... Loss: 1.254951... Acc: 0.38 Val Loss: 1.321315 Val Acc: 0.31\n",
            "Epoch: 11 Ended in 94.44531774520874 secs...\n",
            "Epoch: 13/25... Step: 1... Loss: 1.252259... Acc: 0.32 Time: 0.5853016376495361... secs\n",
            "Epoch: 13/25... Step: 100... Loss: 1.267894... Acc: 0.39 Time: 56.47997832298279... secs\n",
            "Epoch: 13/25... Step: 105... Loss: 1.254905... Acc: 0.39 Val Loss: 1.326990 Val Acc: 0.24\n",
            "Epoch: 12 Ended in 94.48225259780884 secs...\n",
            "Epoch: 14/25... Step: 1... Loss: 1.267560... Acc: 0.40 Time: 0.5869832038879395... secs\n",
            "Epoch: 14/25... Step: 100... Loss: 1.267277... Acc: 0.39 Time: 56.561172008514404... secs\n",
            "Epoch: 14/25... Step: 105... Loss: 1.254524... Acc: 0.38 Val Loss: 1.313540 Val Acc: 0.28\n",
            "Epoch: 13 Ended in 94.4503870010376 secs...\n",
            "Epoch: 15/25... Step: 1... Loss: 1.273134... Acc: 0.31 Time: 0.5861937999725342... secs\n",
            "Epoch: 15/25... Step: 100... Loss: 1.265315... Acc: 0.39 Time: 56.37970495223999... secs\n",
            "Epoch: 15/25... Step: 105... Loss: 1.254840... Acc: 0.38 Val Loss: 1.326040 Val Acc: 0.27\n",
            "Epoch: 14 Ended in 94.37144136428833 secs...\n",
            "Epoch: 16/25... Step: 1... Loss: 1.333265... Acc: 0.33 Time: 0.584141731262207... secs\n",
            "Epoch: 16/25... Step: 100... Loss: 1.265787... Acc: 0.39 Time: 56.47587537765503... secs\n",
            "Epoch: 16/25... Step: 105... Loss: 1.255073... Acc: 0.38 Val Loss: 1.310660 Val Acc: 0.26\n",
            "Epoch: 15 Ended in 94.4467453956604 secs...\n",
            "Epoch: 17/25... Step: 1... Loss: 1.164644... Acc: 0.46 Time: 0.5931894779205322... secs\n",
            "Epoch: 17/25... Step: 100... Loss: 1.266187... Acc: 0.39 Time: 56.55771732330322... secs\n",
            "Epoch: 17/25... Step: 105... Loss: 1.254483... Acc: 0.39 Val Loss: 1.328786 Val Acc: 0.22\n",
            "Epoch: 16 Ended in 94.51390147209167 secs...\n",
            "Epoch: 18/25... Step: 1... Loss: 1.226003... Acc: 0.39 Time: 0.5859322547912598... secs\n",
            "Epoch: 18/25... Step: 100... Loss: 1.265877... Acc: 0.39 Time: 56.51983094215393... secs\n",
            "Epoch: 18/25... Step: 105... Loss: 1.253939... Acc: 0.39 Val Loss: 1.303981 Val Acc: 0.33\n",
            "Epoch: 17 Ended in 94.43449449539185 secs...\n",
            "Epoch: 19/25... Step: 1... Loss: 1.256052... Acc: 0.41 Time: 0.586754322052002... secs\n",
            "Epoch: 19/25... Step: 100... Loss: 1.266788... Acc: 0.39 Time: 56.46069526672363... secs\n",
            "Epoch: 19/25... Step: 105... Loss: 1.254875... Acc: 0.39 Val Loss: 1.301977 Val Acc: 0.29\n",
            "Epoch: 18 Ended in 95.94421720504761 secs...\n",
            "Epoch: 20/25... Step: 1... Loss: 1.353364... Acc: 0.35 Time: 0.5611710548400879... secs\n",
            "Epoch: 20/25... Step: 100... Loss: 1.263091... Acc: 0.39 Time: 56.50718975067139... secs\n",
            "Epoch: 20/25... Step: 105... Loss: 1.253683... Acc: 0.39 Val Loss: 1.345626 Val Acc: 0.22\n",
            "Epoch: 19 Ended in 94.31330251693726 secs...\n",
            "Epoch: 21/25... Step: 1... Loss: 1.277495... Acc: 0.41 Time: 0.5890927314758301... secs\n",
            "Epoch: 21/25... Step: 100... Loss: 1.266770... Acc: 0.39 Time: 56.45601224899292... secs\n",
            "Epoch: 21/25... Step: 105... Loss: 1.255235... Acc: 0.38 Val Loss: 1.340681 Val Acc: 0.24\n",
            "Epoch: 20 Ended in 94.38471150398254 secs...\n",
            "Epoch: 22/25... Step: 1... Loss: 1.267522... Acc: 0.40 Time: 0.585669994354248... secs\n",
            "Epoch: 22/25... Step: 100... Loss: 1.266445... Acc: 0.39 Time: 56.42580771446228... secs\n",
            "Epoch: 22/25... Step: 105... Loss: 1.254540... Acc: 0.38 Val Loss: 1.326265 Val Acc: 0.26\n",
            "Epoch: 21 Ended in 94.29694771766663 secs...\n",
            "Epoch: 23/25... Step: 1... Loss: 1.275695... Acc: 0.40 Time: 0.5926592350006104... secs\n",
            "Epoch: 23/25... Step: 100... Loss: 1.266602... Acc: 0.39 Time: 56.50300192832947... secs\n",
            "Epoch: 23/25... Step: 105... Loss: 1.254443... Acc: 0.39 Val Loss: 1.326516 Val Acc: 0.27\n",
            "Epoch: 22 Ended in 94.45366644859314 secs...\n",
            "Epoch: 24/25... Step: 1... Loss: 1.269397... Acc: 0.35 Time: 0.5902657508850098... secs\n",
            "Epoch: 24/25... Step: 100... Loss: 1.265955... Acc: 0.39 Time: 56.44124174118042... secs\n",
            "Epoch: 24/25... Step: 105... Loss: 1.254125... Acc: 0.39 Val Loss: 1.330310 Val Acc: 0.26\n",
            "Epoch: 23 Ended in 94.43961691856384 secs...\n",
            "Epoch: 25/25... Step: 1... Loss: 1.279398... Acc: 0.35 Time: 0.5875682830810547... secs\n",
            "Epoch: 25/25... Step: 100... Loss: 1.266922... Acc: 0.39 Time: 56.43989944458008... secs\n",
            "Epoch: 25/25... Step: 105... Loss: 1.254625... Acc: 0.39 Val Loss: 1.315266 Val Acc: 0.27\n",
            "Epoch: 24 Ended in 94.37711715698242 secs...\n",
            "Epoch: 26/25... Step: 1... Loss: 1.204852... Acc: 0.46 Time: 0.5905649662017822... secs\n",
            "Epoch: 26/25... Step: 100... Loss: 1.265819... Acc: 0.39 Time: 56.57133722305298... secs\n",
            "Epoch: 26/25... Step: 105... Loss: 1.253435... Acc: 0.39 Val Loss: 1.329369 Val Acc: 0.27\n",
            "Epoch: 25 Ended in 94.47197818756104 secs...\n"
          ]
        }
      ]
    },
    {
      "cell_type": "code",
      "source": [
        "model_trainer.save_plots()"
      ],
      "metadata": {
        "id": "Ttj-utwG4tN8",
        "colab": {
          "base_uri": "https://localhost:8080/"
        },
        "outputId": "27bc8e00-5ed0-46b9-92cf-f2c11b207561"
      },
      "execution_count": null,
      "outputs": [
        {
          "output_type": "display_data",
          "data": {
            "text/plain": [
              "<Figure size 432x288 with 1 Axes>"
            ],
            "image/png": "[encoded data removed]"
          },
          "metadata": {
            "needs_background": "light"
          }
        },
        {
          "output_type": "display_data",
          "data": {
            "text/plain": [
              "<Figure size 432x288 with 1 Axes>"
            ],
            "image/png": "[encoded data removed]"
          },
          "metadata": {
            "needs_background": "light"
          }
        }
      ]
    },
    {
      "cell_type": "markdown",
      "source": [
        "# Bert evaluation"
      ],
      "metadata": {
        "id": "a5R7E_PMex82"
      }
    },
    {
      "cell_type": "code",
      "source": [
        "path_chkp = \"/content/output/BertRun/23-03-05_214307_BertLSTM/checkpoints/minLoss_epoch.chkp\"\n",
        "bert_settings[\"load_checkpoint\"] = path_chkp"
      ],
      "metadata": {
        "id": "x3zS2jxOfCQy"
      },
      "execution_count": null,
      "outputs": []
    },
    {
      "cell_type": "code",
      "source": [
        "model_trainer.epoch_counter"
      ],
      "metadata": {
        "colab": {
          "base_uri": "https://localhost:8080/"
        },
        "id": "DiazguLbforL",
        "outputId": "bef8b751-7d23-48e6-8d2f-12f9d52c509e"
      },
      "execution_count": null,
      "outputs": [
        {
          "output_type": "execute_result",
          "data": {
            "text/plain": [
              "25"
            ]
          },
          "metadata": {},
          "execution_count": 72
        }
      ]
    },
    {
      "cell_type": "code",
      "source": [
        "%%time\n",
        "y_pred, y_true = model_trainer.predict()"
      ],
      "metadata": {
        "colab": {
          "base_uri": "https://localhost:8080/"
        },
        "id": "drnG6er3fqOn",
        "outputId": "b12a38f4-6c44-4612-9090-c4f5864e2bc5"
      },
      "execution_count": null,
      "outputs": [
        {
          "output_type": "stream",
          "name": "stdout",
          "text": [
            "CPU times: user 33.1 s, sys: 49.8 ms, total: 33.1 s\n",
            "Wall time: 33.1 s\n"
          ]
        }
      ]
    },
    {
      "cell_type": "code",
      "source": [
        "from sklearn import metrics\n",
        "print(classification_report(y_true, y_pred, target_names=labels))\n",
        "\n",
        "print(\"Confusion matrix:\\n%s\" % metrics.confusion_matrix(y_true, y_pred))"
      ],
      "metadata": {
        "colab": {
          "base_uri": "https://localhost:8080/"
        },
        "id": "kSbn9q9qfsbP",
        "outputId": "4818e60d-f821-4463-9cee-2785b6f49fe2"
      },
      "execution_count": null,
      "outputs": [
        {
          "output_type": "stream",
          "name": "stdout",
          "text": [
            "              precision    recall  f1-score   support\n",
            "\n",
            "     Country       0.12      0.48      0.19       514\n",
            "         Pop       0.22      0.19      0.20      1160\n",
            "        Rock       0.71      0.24      0.36      3775\n",
            "     Hip-Hop       0.14      0.64      0.24       311\n",
            "\n",
            "    accuracy                           0.27      5760\n",
            "   macro avg       0.30      0.39      0.25      5760\n",
            "weighted avg       0.52      0.27      0.30      5760\n",
            "\n",
            "Confusion matrix:\n",
            "[[ 247   73  111   83]\n",
            " [ 341  219  234  366]\n",
            " [1487  664  898  726]\n",
            " [  30   54   29  198]]\n"
          ]
        }
      ]
    }
  ]
}